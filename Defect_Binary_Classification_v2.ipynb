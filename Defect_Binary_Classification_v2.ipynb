{
 "cells": [
  {
   "cell_type": "code",
   "execution_count": 1,
   "metadata": {},
   "outputs": [],
   "source": [
    "import os\n",
    "import pickle\n",
    "from copy import deepcopy\n",
    "from datetime import datetime\n",
    "from collections import defaultdict\n",
    "from collections import OrderedDict\n",
    "from sklearn.model_selection import train_test_split\n",
    "from sklearn.preprocessing import StandardScaler\n",
    "import pandas as pd\n",
    "import numpy as np\n",
    "import xgboost\n",
    "from sklearn.model_selection import StratifiedKFold\n",
    "from sklearn.model_selection import GridSearchCV, RandomizedSearchCV\n",
    "import sklearn.metrics as metrics\n",
    "from gensim.models import Word2Vec\n",
    "from sklearn.linear_model import LogisticRegression\n",
    "from sklearn.ensemble import RandomForestClassifier\n",
    "import statsmodels.api as sm\n",
    "from statsmodels.tools import add_constant as add_constant\n",
    "from sklearn.feature_selection import VarianceThreshold"
   ]
  },
  {
   "cell_type": "code",
   "execution_count": 34,
   "metadata": {},
   "outputs": [
    {
     "name": "stdout",
     "output_type": "stream",
     "text": [
      "Reading input data\n"
     ]
    }
   ],
   "source": [
    "## Reading Data\n",
    "print(\"Reading input data\")\n",
    "trainingDataset=pd.read_csv(\"Final_data_defect_classification.csv\")"
   ]
  },
  {
   "cell_type": "code",
   "execution_count": 35,
   "metadata": {},
   "outputs": [],
   "source": [
    "SEED=42"
   ]
  },
  {
   "cell_type": "code",
   "execution_count": 36,
   "metadata": {},
   "outputs": [],
   "source": [
    "def classification_stats(target_actual_res , positive_class_prob_score,target_model_res = None):\n",
    "    \n",
    "    false_positive_rate, true_positive_rate, thresholds = metrics.roc_curve(target_actual_res, positive_class_prob_score)\n",
    "    auc_val = metrics.auc(false_positive_rate, true_positive_rate)\n",
    "    if target_model_res is None:\n",
    "        confusion_mat = \"Not Available\"\n",
    "    else:\n",
    "        confusion_mat = pd.crosstab(np.asarray(target_actual_res), np.asarray(target_model_res), rownames=['Actual'], colnames=['Predicted'])\n",
    "        print(confusion_mat)\n",
    "        print(\"\\nPrecision is: \", metrics.precision_score(target_actual_res, target_model_res))\n",
    "        print(\"Recall is: \", metrics.recall_score(target_actual_res, target_model_res))\n",
    "        print(\"Overall_Accuracy is: \", metrics.accuracy_score(target_actual_res,target_model_res))"
   ]
  },
  {
   "cell_type": "code",
   "execution_count": 37,
   "metadata": {},
   "outputs": [],
   "source": [
    "trainingDataset = trainingDataset.rename(columns={'Final_extract':'BinaryLabel'})"
   ]
  },
  {
   "cell_type": "code",
   "execution_count": 38,
   "metadata": {},
   "outputs": [],
   "source": [
    "trainingDataset = pd.get_dummies(trainingDataset, columns=['Project key','Issue Type'], drop_first=False, prefix=['key','type'])"
   ]
  },
  {
   "cell_type": "code",
   "execution_count": 7,
   "metadata": {},
   "outputs": [],
   "source": [
    "cols_consider = [col for col in trainingDataset.columns.tolist() if col.startswith(\"summary_\") or col.startswith(\"description_\") or col.startswith(\"key_\") or col.startswith(\"type_\")]"
   ]
  },
  {
   "cell_type": "code",
   "execution_count": 8,
   "metadata": {},
   "outputs": [],
   "source": [
    "def remove_features(df, key_sum=False,key_threshold = 30, variance=False, var_threshold=0.1, add_cols_remove=['Issue key','BinaryLabel']):\n",
    "    cols_remove = []\n",
    "    cols_selected = []\n",
    "    if key_sum:\n",
    "        key_cols = df.select_dtypes(include=np.number).columns.tolist()\n",
    "        for col in key_cols:\n",
    "            if df[col].sum()<key_threshold:\n",
    "                cols_remove.append(col)\n",
    "        cols_remove.extend(add_cols_remove)\n",
    "    if variance:\n",
    "        selector = VarianceThreshold(var_threshold)\n",
    "        selector.fit(df[cols_consider])\n",
    "        cols_selected = df.columns[selector.get_support(indices=True)]\n",
    "    if len(cols_selected)==0:\n",
    "        return [col for col in df.columns if col not in cols_remove]\n",
    "    else:\n",
    "        return [col for col in cols_selected if col not in cols_remove]"
   ]
  },
  {
   "cell_type": "code",
   "execution_count": 9,
   "metadata": {},
   "outputs": [],
   "source": [
    "dataset = trainingDataset.copy()\n",
    "cols_selected = list(remove_features(trainingDataset, key_sum=True, key_threshold=45))+['BinaryLabel']\n",
    "cols_selected = [col for col in cols_selected if not col.startswith(\"wcode_\")]\n",
    "dataset = dataset[cols_selected]"
   ]
  },
  {
   "cell_type": "code",
   "execution_count": 10,
   "metadata": {},
   "outputs": [
    {
     "data": {
      "text/plain": [
       "46.0"
      ]
     },
     "execution_count": 10,
     "metadata": {},
     "output_type": "execute_result"
    }
   ],
   "source": [
    "dataset[cols_selected].sum().min()"
   ]
  },
  {
   "cell_type": "code",
   "execution_count": 11,
   "metadata": {},
   "outputs": [],
   "source": [
    "corr_matrix = dataset.corr().abs()\n",
    "upper = corr_matrix.where(np.triu(np.ones(corr_matrix.shape), k=1).astype(np.bool))\n",
    "to_drop = [column for column in upper.columns if any(upper[column] > 0.7)]"
   ]
  },
  {
   "cell_type": "code",
   "execution_count": 12,
   "metadata": {},
   "outputs": [],
   "source": [
    "if \"BinaryLabel\" in to_drop:\n",
    "    to_drop.remove(\"BinaryLabel\")"
   ]
  },
  {
   "cell_type": "code",
   "execution_count": 13,
   "metadata": {},
   "outputs": [],
   "source": [
    "dataset.drop(to_drop, axis=1, inplace=True)"
   ]
  },
  {
   "cell_type": "code",
   "execution_count": 14,
   "metadata": {},
   "outputs": [],
   "source": [
    "balanced_data = dataset.groupby('BinaryLabel').apply(lambda x:x.sample(n=5857)).reset_index(drop=True)"
   ]
  },
  {
   "cell_type": "code",
   "execution_count": 15,
   "metadata": {},
   "outputs": [],
   "source": [
    "## Over Sampling balancing\n",
    "data = dataset.copy()\n",
    "## Under Sampling balancing\n",
    "b_data = balanced_data.copy()"
   ]
  },
  {
   "cell_type": "code",
   "execution_count": 16,
   "metadata": {},
   "outputs": [],
   "source": [
    "cols_selected = list(set(cols_selected)-set(to_drop))\n",
    "cols_selected.remove(\"BinaryLabel\")"
   ]
  },
  {
   "cell_type": "code",
   "execution_count": 17,
   "metadata": {},
   "outputs": [],
   "source": [
    "X = data.loc[:, cols_selected]\n",
    "#sca = StandardScaler()\n",
    "#X = sca.fit_transform(X)\n",
    "y = data.loc[:, ['BinaryLabel']]\n",
    "X_train, X_test, y_train, y_test = train_test_split(X, y, test_size=0.35, random_state=SEED)\n",
    "X_b = b_data.loc[:,cols_selected]\n",
    "y_b = b_data.loc[:, ['BinaryLabel']]\n",
    "Xb_train, Xb_test, yb_train, yb_test = train_test_split(X_b, y_b, test_size=0.35, random_state=SEED)"
   ]
  },
  {
   "cell_type": "markdown",
   "metadata": {},
   "source": [
    "## Logistic Regression"
   ]
  },
  {
   "cell_type": "code",
   "execution_count": 18,
   "metadata": {},
   "outputs": [
    {
     "name": "stdout",
     "output_type": "stream",
     "text": [
      "Warning: Maximum number of iterations has been exceeded.\n",
      "         Current function value: 0.490445\n",
      "         Iterations: 35\n",
      "                           Logit Regression Results                           \n",
      "==============================================================================\n",
      "Dep. Variable:            BinaryLabel   No. Observations:                13516\n",
      "Model:                          Logit   Df Residuals:                    13410\n",
      "Method:                           MLE   Df Model:                          105\n",
      "Date:                Thu, 11 Nov 2021   Pseudo R-squ.:                  0.1795\n",
      "Time:                        17:02:52   Log-Likelihood:                -6628.9\n",
      "converged:                      False   LL-Null:                       -8079.1\n",
      "Covariance Type:            nonrobust   LLR p-value:                     0.000\n",
      "===========================================================================================\n",
      "                              coef    std err          z      P>|z|      [0.025      0.975]\n",
      "-------------------------------------------------------------------------------------------\n",
      "const                       0.3710      0.196      1.891      0.059      -0.013       0.755\n",
      "key_IOTDB                   0.9364      0.210      4.449      0.000       0.524       1.349\n",
      "key_HIVE                    1.7142      0.221      7.770      0.000       1.282       2.147\n",
      "key_DRILL                   2.4345      0.729      3.338      0.001       1.005       3.864\n",
      "type_Test                   0.1823      0.267      0.682      0.495      -0.342       0.706\n",
      "key_ISIS                    1.0089      0.249      4.044      0.000       0.520       1.498\n",
      "key_OPENMEETINGS            0.8737      0.334      2.615      0.009       0.219       1.529\n",
      "key_CALCITE                 2.0618      0.430      4.792      0.000       1.219       2.905\n",
      "type_New Feature           -0.0810      0.207     -0.391      0.696      -0.487       0.325\n",
      "description_109             1.7671      1.313      1.346      0.178      -0.806       4.341\n",
      "type_Task                  -0.2725      0.192     -1.422      0.155      -0.648       0.103\n",
      "key_DATALAB                 1.3309      0.254      5.240      0.000       0.833       1.829\n",
      "key_YARN                    1.7846      0.377      4.730      0.000       1.045       2.524\n",
      "key_OAK                    -0.0406      0.212     -0.191      0.849      -0.457       0.376\n",
      "key_ARROW                   1.2485      0.119     10.477      0.000       1.015       1.482\n",
      "summary_208                13.0309      4.552      2.863      0.004       4.109      21.953\n",
      "key_AMQ                     0.0575      0.253      0.228      0.820      -0.438       0.552\n",
      "key_DISPATCH                0.9760      0.265      3.682      0.000       0.456       1.495\n",
      "key_CAMEL                  -1.5966      0.143    -11.138      0.000      -1.878      -1.316\n",
      "key_SUBMARINE               1.7790      0.377      4.714      0.000       1.039       2.519\n",
      "key_HUDI                    1.0727      0.185      5.786      0.000       0.709       1.436\n",
      "key_HDDS                    1.5437      0.190      8.104      0.000       1.170       1.917\n",
      "key_SOLR                    0.3915      0.151      2.596      0.009       0.096       0.687\n",
      "key_TIKA                    1.6321      0.383      4.257      0.000       0.881       2.384\n",
      "key_ASTERIXDB               0.5294      0.334      1.584      0.113      -0.126       1.184\n",
      "type_Improvement            0.3080      0.190      1.618      0.106      -0.065       0.681\n",
      "key_ACCUMULO               -0.3719      0.232     -1.606      0.108      -0.826       0.082\n",
      "key_SLING                   0.2176      0.140      1.555      0.120      -0.057       0.492\n",
      "key_LUCENE                  2.7857      0.515      5.414      0.000       1.777       3.794\n",
      "key_GROOVY                 -0.3820      0.181     -2.105      0.035      -0.738      -0.026\n",
      "description_131            -1.8409      1.347     -1.367      0.172      -4.481       0.799\n",
      "key_INLONG                 23.5977   2.05e+04      0.001      0.999   -4.01e+04    4.01e+04\n",
      "key_RANGER                  1.1836      0.290      4.077      0.000       0.615       1.753\n",
      "type_Bug                    0.0454      0.189      0.241      0.810      -0.324       0.415\n",
      "key_NETBEANS               -0.4976      0.196     -2.545      0.011      -0.881      -0.114\n",
      "key_YETUS                  -0.0044      0.376     -0.012      0.991      -0.742       0.733\n",
      "key_STREAMPIPES             1.5289      0.617      2.479      0.013       0.320       2.738\n",
      "description_70             -2.7411      1.165     -2.353      0.019      -5.024      -0.458\n",
      "key_JAMES                   0.4772      0.237      2.013      0.044       0.013       0.942\n",
      "key_THRIFT                  1.3000      0.450      2.890      0.004       0.418       2.182\n",
      "key_NIFI                    1.1776      0.190      6.200      0.000       0.805       1.550\n",
      "key_KARAF                   1.3583      0.295      4.600      0.000       0.780       1.937\n",
      "key_SM                     -4.3941      1.012     -4.342      0.000      -6.377      -2.411\n",
      "key_ZOOKEEPER               1.5761      0.440      3.582      0.000       0.714       2.438\n",
      "description_228             0.2701      1.340      0.202      0.840      -2.356       2.896\n",
      "key_CASSANDRA               1.1040      0.189      5.834      0.000       0.733       1.475\n",
      "summary_39                  6.6430      4.736      1.403      0.161      -2.639      15.925\n",
      "type_Documentation          0.4902      0.558      0.878      0.380      -0.603       1.584\n",
      "type_Question              -0.9235      0.376     -2.459      0.014      -1.660      -0.187\n",
      "key_ORC                     0.8377      0.239      3.511      0.000       0.370       1.305\n",
      "key_IGNITE                  1.1965      0.151      7.903      0.000       0.900       1.493\n",
      "key_SYSTEMDS               -0.9015      0.193     -4.666      0.000      -1.280      -0.523\n",
      "type_Dependency upgrade    -0.1946      0.287     -0.679      0.497      -0.756       0.367\n",
      "key_HDFS                    1.5821      0.314      5.040      0.000       0.967       2.197\n",
      "key_OFBIZ                   1.2568      0.298      4.217      0.000       0.673       1.841\n",
      "key_BIGTOP                  0.9261      0.344      2.695      0.007       0.252       1.600\n",
      "key_TINKERPOP               0.8272      0.400      2.066      0.039       0.042       1.612\n",
      "key_GOBBLIN                20.2841   6286.614      0.003      0.997   -1.23e+04    1.23e+04\n",
      "key_HADOOP                  0.8251      0.231      3.575      0.000       0.373       1.278\n",
      "summary_113                 4.9315      4.695      1.050      0.294      -4.270      14.133\n",
      "key_SPARK                   1.7489      0.132     13.211      0.000       1.489       2.008\n",
      "key_ATLAS                   1.1674      0.284      4.111      0.000       0.611       1.724\n",
      "key_FINERACT               -0.6971      0.337     -2.066      0.039      -1.358      -0.036\n",
      "key_FLINK                   0.4968      0.091      5.465      0.000       0.319       0.675\n",
      "key_JENA                    0.9027      0.349      2.585      0.010       0.218       1.587\n",
      "key_SCB                    -3.3059      0.600     -5.512      0.000      -4.481      -2.130\n",
      "key_TEZ                     0.0654      0.402      0.163      0.871      -0.722       0.853\n",
      "key_BEAM                    1.1773      0.160      7.342      0.000       0.863       1.492\n",
      "description_3               0.2441      0.244      1.000      0.317      -0.234       0.722\n",
      "key_ZEPPELIN                1.5177      0.315      4.819      0.000       0.900       2.135\n",
      "summary_121                 3.7610      4.871      0.772      0.440      -5.785      13.307\n",
      "key_INFRA                  -0.6675      0.126     -5.304      0.000      -0.914      -0.421\n",
      "type_Sub-task               0.1633      0.198      0.825      0.409      -0.225       0.551\n",
      "key_KAFKA                  -1.3444      0.153     -8.762      0.000      -1.645      -1.044\n",
      "key_HBASE                   0.8083      0.166      4.883      0.000       0.484       1.133\n",
      "key_LOG4J2                  0.1744      0.399      0.437      0.662      -0.608       0.957\n",
      "key_HOP                    -1.5508      0.120    -12.893      0.000      -1.787      -1.315\n",
      "key_CARBONDATA              2.1242      0.601      3.532      0.000       0.946       3.303\n",
      "key_TOMEE                  -0.6553      0.286     -2.290      0.022      -1.216      -0.094\n",
      "key_PARQUET                 1.3567      0.542      2.505      0.012       0.295       2.418\n",
      "key_JCRVLT                  0.9522      0.456      2.090      0.037       0.059       1.845\n",
      "key_AVRO                    1.4113      0.485      2.908      0.004       0.460       2.363\n",
      "summary_96                 -5.1515      5.235     -0.984      0.325     -15.413       5.110\n",
      "key_GUACAMOLE              -1.3986      0.312     -4.487      0.000      -2.010      -0.788\n",
      "type_Wish                  -0.8306      0.305     -2.719      0.007      -1.429      -0.232\n",
      "key_RATIS                   3.0088      0.721      4.171      0.000       1.595       4.423\n",
      "key_YUNIKORN                0.8507      0.254      3.350      0.001       0.353       1.348\n",
      "key_KYLIN                   1.0959      0.373      2.934      0.003       0.364       1.828\n",
      "key_CXF                    -1.4131      0.379     -3.729      0.000      -2.156      -0.670\n",
      "key_KNOX                    1.2387      0.391      3.166      0.002       0.472       2.005\n",
      "key_PDFBOX                  0.1426      0.275      0.519      0.604      -0.396       0.682\n",
      "key_MINIFICPP               1.5958      0.360      4.434      0.000       0.890       2.301\n",
      "summary_2                  -1.4554      1.079     -1.349      0.177      -3.569       0.659\n",
      "key_DAFFODIL                0.3915      0.296      1.321      0.187      -0.189       0.972\n",
      "key_IMPALA                  0.4048      0.178      2.274      0.023       0.056       0.754\n",
      "key_FELIX                  -0.3066      0.339     -0.903      0.366      -0.972       0.358\n",
      "key_AIRAVATA                1.7550      0.614      2.860      0.004       0.552       2.958\n",
      "description_259             0.7087      1.432      0.495      0.621      -2.099       3.516\n",
      "key_PHOENIX                 1.0335      0.294      3.519      0.000       0.458       1.609\n",
      "summary_6                  -0.1361      5.493     -0.025      0.980     -10.903      10.630\n",
      "key_MNG                     0.0449      0.260      0.173      0.863      -0.464       0.554\n",
      "description_211            -0.9567      1.331     -0.719      0.472      -3.566       1.652\n",
      "key_NLPCRAFT               -1.8999      0.376     -5.049      0.000      -2.637      -1.162\n",
      "key_GEODE                   1.2175      0.185      6.583      0.000       0.855       1.580\n",
      "summary_174                13.1841      4.387      3.005      0.003       4.585      21.783\n",
      "key_ARTEMIS                 1.3418      0.205      6.531      0.000       0.939       1.745\n",
      "===========================================================================================\n"
     ]
    },
    {
     "name": "stderr",
     "output_type": "stream",
     "text": [
      "C:\\Users\\suresh.nagulavancha\\Anaconda3\\lib\\site-packages\\statsmodels\\base\\model.py:566: ConvergenceWarning: Maximum Likelihood optimization failed to converge. Check mle_retvals\n",
      "  warnings.warn(\"Maximum Likelihood optimization failed to \"\n"
     ]
    }
   ],
   "source": [
    "## Logisitc Regression\n",
    "#smote = SMOTE()\n",
    "X_train_constant = add_constant(X_train)\n",
    "model_logit = sm.Logit(y_train, X_train_constant)\n",
    "model_logit_result = model_logit.fit()\n",
    "print(model_logit_result.summary())"
   ]
  },
  {
   "cell_type": "code",
   "execution_count": 19,
   "metadata": {},
   "outputs": [
    {
     "name": "stdout",
     "output_type": "stream",
     "text": [
      "Warning: Maximum number of iterations has been exceeded.\n",
      "         Current function value: 0.565451\n",
      "         Iterations: 35\n",
      "                           Logit Regression Results                           \n",
      "==============================================================================\n",
      "Dep. Variable:            BinaryLabel   No. Observations:                 7614\n",
      "Model:                          Logit   Df Residuals:                     7508\n",
      "Method:                           MLE   Df Model:                          105\n",
      "Date:                Thu, 11 Nov 2021   Pseudo R-squ.:                  0.1842\n",
      "Time:                        17:02:53   Log-Likelihood:                -4305.3\n",
      "converged:                      False   LL-Null:                       -5277.2\n",
      "Covariance Type:            nonrobust   LLR p-value:                     0.000\n",
      "===========================================================================================\n",
      "                              coef    std err          z      P>|z|      [0.025      0.975]\n",
      "-------------------------------------------------------------------------------------------\n",
      "const                      -0.5788      0.263     -2.200      0.028      -1.094      -0.063\n",
      "key_IOTDB                   0.8727      0.249      3.510      0.000       0.385       1.360\n",
      "key_HIVE                    1.8675      0.248      7.529      0.000       1.381       2.354\n",
      "key_DRILL                   2.9927      1.050      2.850      0.004       0.935       5.051\n",
      "type_Test                   0.1095      0.335      0.327      0.744      -0.548       0.767\n",
      "key_ISIS                    0.9941      0.281      3.543      0.000       0.444       1.544\n",
      "key_OPENMEETINGS            0.6771      0.412      1.642      0.101      -0.131       1.485\n",
      "key_CALCITE                 1.4114      0.388      3.636      0.000       0.651       2.172\n",
      "type_New Feature           -0.0981      0.274     -0.358      0.720      -0.635       0.439\n",
      "description_109             0.3657      1.594      0.230      0.818      -2.758       3.489\n",
      "type_Task                  -0.4123      0.260     -1.587      0.113      -0.922       0.097\n",
      "key_DATALAB                 1.4015      0.295      4.743      0.000       0.822       1.981\n",
      "key_YARN                    2.0548      0.459      4.474      0.000       1.155       2.955\n",
      "key_OAK                    -0.0294      0.250     -0.118      0.906      -0.519       0.460\n",
      "key_ARROW                   1.4349      0.140     10.273      0.000       1.161       1.709\n",
      "summary_208                 8.0757      5.438      1.485      0.138      -2.582      18.734\n",
      "key_AMQ                     0.0189      0.358      0.053      0.958      -0.682       0.720\n",
      "key_DISPATCH                1.1410      0.303      3.769      0.000       0.548       1.734\n",
      "key_CAMEL                  -1.5648      0.200     -7.829      0.000      -1.957      -1.173\n",
      "key_SUBMARINE               1.7798      0.408      4.360      0.000       0.980       2.580\n",
      "key_HUDI                    1.1380      0.213      5.339      0.000       0.720       1.556\n",
      "key_HDDS                    1.6096      0.209      7.716      0.000       1.201       2.018\n",
      "key_SOLR                    0.5822      0.181      3.209      0.001       0.227       0.938\n",
      "key_TIKA                    0.9477      0.388      2.440      0.015       0.186       1.709\n",
      "key_ASTERIXDB               0.9595      0.444      2.162      0.031       0.090       1.829\n",
      "type_Improvement            0.3025      0.255      1.186      0.236      -0.197       0.803\n",
      "key_ACCUMULO               -0.0486      0.304     -0.160      0.873      -0.643       0.546\n",
      "key_SLING                   0.2667      0.177      1.506      0.132      -0.080       0.614\n",
      "key_LUCENE                  2.4983      0.447      5.593      0.000       1.623       3.374\n",
      "key_GROOVY                 -0.4047      0.244     -1.659      0.097      -0.883       0.073\n",
      "description_131            -1.2361      1.655     -0.747      0.455      -4.480       2.007\n",
      "key_INLONG                 19.1679   2078.991      0.009      0.993   -4055.579    4093.915\n",
      "key_RANGER                  1.5746      0.360      4.370      0.000       0.868       2.281\n",
      "type_Bug                    0.0720      0.253      0.284      0.777      -0.425       0.569\n",
      "key_NETBEANS               -0.3930      0.262     -1.500      0.134      -0.907       0.121\n",
      "key_YETUS               -5.685e-05      0.437     -0.000      1.000      -0.857       0.857\n",
      "key_STREAMPIPES             1.2727      0.542      2.350      0.019       0.211       2.334\n",
      "description_70             -4.3575      1.427     -3.054      0.002      -7.154      -1.561\n",
      "key_JAMES                   0.0498      0.298      0.167      0.867      -0.534       0.633\n",
      "key_THRIFT                  2.0388      0.644      3.167      0.002       0.777       3.300\n",
      "key_NIFI                    1.6128      0.227      7.090      0.000       1.167       2.059\n",
      "key_KARAF                   1.3791      0.328      4.202      0.000       0.736       2.022\n",
      "key_SM                     -2.4351      0.729     -3.340      0.001      -3.864      -1.006\n",
      "key_ZOOKEEPER               1.4992      0.429      3.492      0.000       0.658       2.341\n",
      "description_228            -1.7856      1.632     -1.094      0.274      -4.984       1.413\n",
      "key_CASSANDRA               1.1680      0.218      5.354      0.000       0.740       1.596\n",
      "summary_39                  2.6002      5.798      0.448      0.654      -8.764      13.964\n",
      "type_Documentation          0.6836      0.548      1.247      0.212      -0.390       1.758\n",
      "type_Question              -0.9914      0.498     -1.991      0.047      -1.967      -0.015\n",
      "key_ORC                     1.1965      0.278      4.297      0.000       0.651       1.742\n",
      "key_IGNITE                  1.3856      0.178      7.785      0.000       1.037       1.735\n",
      "key_SYSTEMDS               -0.6995      0.273     -2.560      0.010      -1.235      -0.164\n",
      "type_Dependency upgrade    -0.1544      0.375     -0.411      0.681      -0.890       0.581\n",
      "key_HDFS                    1.9053      0.363      5.246      0.000       1.193       2.617\n",
      "key_OFBIZ                   1.5223      0.325      4.681      0.000       0.885       2.160\n",
      "key_BIGTOP                  1.0557      0.405      2.606      0.009       0.262       1.850\n",
      "key_TINKERPOP               1.6936      0.517      3.276      0.001       0.680       2.707\n",
      "key_GOBBLIN                 2.9899      1.039      2.877      0.004       0.953       5.027\n",
      "key_HADOOP                  0.9236      0.268      3.450      0.001       0.399       1.448\n",
      "summary_113                -0.2468      5.608     -0.044      0.965     -11.239      10.745\n",
      "key_SPARK                   1.8178      0.147     12.345      0.000       1.529       2.106\n",
      "key_ATLAS                   0.8797      0.303      2.902      0.004       0.285       1.474\n",
      "key_FINERACT               -0.4400      0.425     -1.035      0.301      -1.273       0.393\n",
      "key_FLINK                   0.6949      0.111      6.282      0.000       0.478       0.912\n",
      "key_JENA                    1.3228      0.450      2.940      0.003       0.441       2.204\n",
      "key_SCB                   -14.7362    270.572     -0.054      0.957    -545.047     515.574\n",
      "key_TEZ                     0.5523      0.448      1.233      0.218      -0.326       1.430\n",
      "key_BEAM                    1.1836      0.177      6.679      0.000       0.836       1.531\n",
      "description_3              -0.0884      0.296     -0.298      0.765      -0.669       0.492\n",
      "key_ZEPPELIN                1.7109      0.370      4.625      0.000       0.986       2.436\n",
      "summary_121                 1.3167      5.864      0.225      0.822     -10.176      12.809\n",
      "key_INFRA                  -0.4941      0.168     -2.943      0.003      -0.823      -0.165\n",
      "type_Sub-task               0.1574      0.262      0.599      0.549      -0.357       0.672\n",
      "key_KAFKA                  -1.5973      0.246     -6.493      0.000      -2.079      -1.115\n",
      "key_HBASE                   0.8545      0.195      4.378      0.000       0.472       1.237\n",
      "key_LOG4J2                  0.3339      0.487      0.686      0.493      -0.620       1.288\n",
      "key_HOP                    -1.2794      0.164     -7.815      0.000      -1.600      -0.959\n",
      "key_CARBONDATA              2.4720      0.769      3.215      0.001       0.965       3.979\n",
      "key_TOMEE                  -0.7854      0.439     -1.789      0.074      -1.646       0.075\n",
      "key_PARQUET                 1.7982      0.652      2.758      0.006       0.520       3.076\n",
      "key_JCRVLT                  1.2032      0.548      2.194      0.028       0.128       2.278\n",
      "key_AVRO                    1.3394      0.464      2.885      0.004       0.429       2.249\n",
      "summary_96                 -4.1889      6.284     -0.667      0.505     -16.506       8.128\n",
      "key_GUACAMOLE              -0.8117      0.364     -2.230      0.026      -1.525      -0.098\n",
      "type_Wish                  -0.8138      0.400     -2.032      0.042      -1.599      -0.029\n",
      "key_RATIS                   2.7754      0.614      4.520      0.000       1.572       3.979\n",
      "key_YUNIKORN                1.0474      0.301      3.480      0.001       0.458       1.637\n",
      "key_KYLIN                   1.3885      0.408      3.402      0.001       0.589       2.188\n",
      "key_CXF                    -0.5106      0.421     -1.214      0.225      -1.335       0.314\n",
      "key_KNOX                    1.5360      0.489      3.140      0.002       0.577       2.495\n",
      "key_PDFBOX                  0.2300      0.340      0.676      0.499      -0.436       0.896\n",
      "key_MINIFICPP               1.0823      0.349      3.101      0.002       0.398       1.766\n",
      "summary_2                  -0.7246      1.295     -0.559      0.576      -3.263       1.814\n",
      "key_DAFFODIL                1.0228      0.365      2.803      0.005       0.308       1.738\n",
      "key_IMPALA                  0.4541      0.222      2.048      0.041       0.020       0.889\n",
      "key_FELIX                  -0.1864      0.422     -0.442      0.659      -1.013       0.641\n",
      "key_AIRAVATA                2.3307      0.776      3.003      0.003       0.810       3.852\n",
      "description_259             2.4292      1.779      1.366      0.172      -1.057       5.915\n",
      "key_PHOENIX                 1.4231      0.370      3.846      0.000       0.698       2.148\n",
      "summary_6                   7.0640      6.566      1.076      0.282      -5.805      19.933\n",
      "key_MNG                     0.5671      0.366      1.548      0.122      -0.151       1.285\n",
      "description_211            -0.2572      1.602     -0.161      0.872      -3.397       2.882\n",
      "key_NLPCRAFT               -1.3963      0.484     -2.883      0.004      -2.346      -0.447\n",
      "key_GEODE                   1.4615      0.221      6.606      0.000       1.028       1.895\n",
      "summary_174                 8.8347      5.270      1.676      0.094      -1.495      19.164\n",
      "key_ARTEMIS                 1.2868      0.257      5.017      0.000       0.784       1.790\n",
      "===========================================================================================\n"
     ]
    },
    {
     "name": "stderr",
     "output_type": "stream",
     "text": [
      "C:\\Users\\suresh.nagulavancha\\Anaconda3\\lib\\site-packages\\statsmodels\\base\\model.py:566: ConvergenceWarning: Maximum Likelihood optimization failed to converge. Check mle_retvals\n",
      "  warnings.warn(\"Maximum Likelihood optimization failed to \"\n"
     ]
    }
   ],
   "source": [
    "## Logisitc Regression\n",
    "#smote = SMOTE()\n",
    "Xb_train_constant = add_constant(Xb_train)\n",
    "model_logitb = sm.Logit(yb_train, Xb_train_constant)\n",
    "model_logit_resultb = model_logitb.fit()\n",
    "print(model_logit_resultb.summary())"
   ]
  },
  {
   "cell_type": "code",
   "execution_count": 21,
   "metadata": {},
   "outputs": [],
   "source": [
    "def back_feature_elem (data_frame,dep_var,col_list):\n",
    "    removed_cols = []\n",
    "    while len(col_list)>0 :\n",
    "        model=sm.Logit(dep_var,data_frame[col_list])\n",
    "        result=model.fit(disp=0)\n",
    "        largest_pvalue=round(result.pvalues,3).nlargest(1)\n",
    "        if largest_pvalue[0]<(0.05):\n",
    "            return result, removed_cols\n",
    "            break\n",
    "        else:\n",
    "            removed_cols.append(largest_pvalue.index[0])\n",
    "            #print(\"removing :\",largest_pvalue.index)\n",
    "            col_list.remove(largest_pvalue.index)\n",
    "\n",
    "#result, new_features = back_feature_elem(X_train_constant,y_train,cols_selected[:])\n",
    "#resultb, new_featuresb = back_feature_elem(Xb_train_constant,yb_train,cols_selected[:])"
   ]
  },
  {
   "cell_type": "code",
   "execution_count": null,
   "metadata": {},
   "outputs": [],
   "source": [
    "result.summary()"
   ]
  },
  {
   "cell_type": "code",
   "execution_count": null,
   "metadata": {},
   "outputs": [],
   "source": [
    "resultb.summary()"
   ]
  },
  {
   "cell_type": "code",
   "execution_count": 22,
   "metadata": {},
   "outputs": [
    {
     "name": "stderr",
     "output_type": "stream",
     "text": [
      "C:\\Users\\suresh.nagulavancha\\Anaconda3\\lib\\site-packages\\sklearn\\linear_model\\_logistic.py:762: ConvergenceWarning: lbfgs failed to converge (status=1):\n",
      "STOP: TOTAL NO. of ITERATIONS REACHED LIMIT.\n",
      "\n",
      "Increase the number of iterations (max_iter) or scale the data as shown in:\n",
      "    https://scikit-learn.org/stable/modules/preprocessing.html\n",
      "Please also refer to the documentation for alternative solver options:\n",
      "    https://scikit-learn.org/stable/modules/linear_model.html#logistic-regression\n",
      "  n_iter_i = _check_optimize_result(\n"
     ]
    }
   ],
   "source": [
    "logit_sk = LogisticRegression(penalty='l2',max_iter=100,random_state=SEED, class_weight='balanced').fit(X_train, y_train.to_numpy().ravel())\n",
    "logit_sk_b = LogisticRegression(penalty='l2',max_iter=100,random_state=SEED).fit(Xb_train, yb_train.to_numpy().ravel())\n",
    "#logit_skn = LogisticRegression(penalty='l2',max_iter=100,random_state=SEED, class_weight='balanced').fit(X_train[new_features], y_train.to_numpy().ravel())\n",
    "#logit_sk_bn = LogisticRegression(penalty='l2',max_iter=100,random_state=SEED).fit(Xb_train[new_features], yb_train.to_numpy().ravel())"
   ]
  },
  {
   "cell_type": "code",
   "execution_count": 23,
   "metadata": {},
   "outputs": [
    {
     "name": "stdout",
     "output_type": "stream",
     "text": [
      "training \n",
      "0.7306895531222255\n",
      "0.84262630860264\n",
      "0.7664044711239909\n",
      "Test \n",
      "0.7361912613355317\n",
      "0.8520461699895068\n",
      "0.7696682464454976\n"
     ]
    }
   ],
   "source": [
    "## Full Data Full Features\n",
    "print(\"training \")\n",
    "logistc_prediction = logit_sk.predict(X_train)\n",
    "print(metrics.accuracy_score(y_train, logistc_prediction))\n",
    "print(metrics.precision_score(y_train, logistc_prediction))\n",
    "print(metrics.recall_score(y_train, logistc_prediction))\n",
    "print(\"Test \")\n",
    "logistc_prediction = logit_sk.predict(X_test)\n",
    "print(metrics.accuracy_score(y_test, logistc_prediction))\n",
    "print(metrics.precision_score(y_test, logistc_prediction))\n",
    "print(metrics.recall_score(y_test, logistc_prediction))"
   ]
  },
  {
   "cell_type": "code",
   "execution_count": 24,
   "metadata": {},
   "outputs": [
    {
     "name": "stdout",
     "output_type": "stream",
     "text": [
      "training \n",
      "0.7071184659837142\n",
      "0.6863060989643268\n",
      "0.774746687451286\n",
      "Test \n",
      "0.6997560975609756\n",
      "0.6700218818380744\n",
      "0.7624501992031872\n"
     ]
    }
   ],
   "source": [
    "## Balanced data, Full Features\n",
    "print(\"training \")\n",
    "logistc_prediction = logit_sk_b.predict(Xb_train)\n",
    "print(metrics.accuracy_score(yb_train, logistc_prediction))\n",
    "print(metrics.precision_score(yb_train, logistc_prediction))\n",
    "print(metrics.recall_score(yb_train, logistc_prediction))\n",
    "print(\"Test \")\n",
    "logistc_prediction = logit_sk.predict(Xb_test)\n",
    "print(metrics.accuracy_score(yb_test, logistc_prediction))\n",
    "print(metrics.precision_score(yb_test, logistc_prediction))\n",
    "print(metrics.recall_score(yb_test, logistc_prediction))"
   ]
  },
  {
   "cell_type": "code",
   "execution_count": 25,
   "metadata": {},
   "outputs": [
    {
     "name": "stdout",
     "output_type": "stream",
     "text": [
      "training \n"
     ]
    },
    {
     "ename": "NameError",
     "evalue": "name 'logit_skn' is not defined",
     "output_type": "error",
     "traceback": [
      "\u001b[1;31m---------------------------------------------------------------------------\u001b[0m",
      "\u001b[1;31mNameError\u001b[0m                                 Traceback (most recent call last)",
      "\u001b[1;32m<ipython-input-25-9ee7f31def91>\u001b[0m in \u001b[0;36m<module>\u001b[1;34m\u001b[0m\n\u001b[0;32m      1\u001b[0m \u001b[1;31m## Full data, Significant features\u001b[0m\u001b[1;33m\u001b[0m\u001b[1;33m\u001b[0m\u001b[1;33m\u001b[0m\u001b[0m\n\u001b[0;32m      2\u001b[0m \u001b[0mprint\u001b[0m\u001b[1;33m(\u001b[0m\u001b[1;34m\"training \"\u001b[0m\u001b[1;33m)\u001b[0m\u001b[1;33m\u001b[0m\u001b[1;33m\u001b[0m\u001b[0m\n\u001b[1;32m----> 3\u001b[1;33m \u001b[0mlogistc_prediction\u001b[0m \u001b[1;33m=\u001b[0m \u001b[0mlogit_skn\u001b[0m\u001b[1;33m.\u001b[0m\u001b[0mpredict\u001b[0m\u001b[1;33m(\u001b[0m\u001b[0mX_train\u001b[0m\u001b[1;33m[\u001b[0m\u001b[0mnew_features\u001b[0m\u001b[1;33m]\u001b[0m\u001b[1;33m)\u001b[0m\u001b[1;33m\u001b[0m\u001b[1;33m\u001b[0m\u001b[0m\n\u001b[0m\u001b[0;32m      4\u001b[0m \u001b[0mprint\u001b[0m\u001b[1;33m(\u001b[0m\u001b[0mmetrics\u001b[0m\u001b[1;33m.\u001b[0m\u001b[0maccuracy_score\u001b[0m\u001b[1;33m(\u001b[0m\u001b[0my_train\u001b[0m\u001b[1;33m,\u001b[0m \u001b[0mlogistc_prediction\u001b[0m\u001b[1;33m)\u001b[0m\u001b[1;33m)\u001b[0m\u001b[1;33m\u001b[0m\u001b[1;33m\u001b[0m\u001b[0m\n\u001b[0;32m      5\u001b[0m \u001b[0mprint\u001b[0m\u001b[1;33m(\u001b[0m\u001b[0mmetrics\u001b[0m\u001b[1;33m.\u001b[0m\u001b[0mprecision_score\u001b[0m\u001b[1;33m(\u001b[0m\u001b[0my_train\u001b[0m\u001b[1;33m,\u001b[0m \u001b[0mlogistc_prediction\u001b[0m\u001b[1;33m)\u001b[0m\u001b[1;33m)\u001b[0m\u001b[1;33m\u001b[0m\u001b[1;33m\u001b[0m\u001b[0m\n",
      "\u001b[1;31mNameError\u001b[0m: name 'logit_skn' is not defined"
     ]
    }
   ],
   "source": [
    "## Full data, Significant features\n",
    "print(\"training \")\n",
    "logistc_prediction = logit_skn.predict(X_train[new_features])\n",
    "print(metrics.accuracy_score(y_train, logistc_prediction))\n",
    "print(metrics.precision_score(y_train, logistc_prediction))\n",
    "print(metrics.recall_score(y_train, logistc_prediction))\n",
    "print(\"Test \")\n",
    "logistc_prediction = logit_skn.predict(X_test[new_features])\n",
    "print(metrics.accuracy_score(y_test, logistc_prediction))\n",
    "print(metrics.precision_score(y_test, logistc_prediction))\n",
    "print(metrics.recall_score(y_test, logistc_prediction))"
   ]
  },
  {
   "cell_type": "code",
   "execution_count": null,
   "metadata": {},
   "outputs": [],
   "source": [
    "## Balanced data, Significant features\n",
    "print(\"training \")\n",
    "logistc_prediction = logit_sk_bn.predict(Xb_train[new_features])\n",
    "print(metrics.accuracy_score(yb_train, logistc_prediction))\n",
    "print(metrics.precision_score(yb_train, logistc_prediction))\n",
    "print(metrics.recall_score(yb_train, logistc_prediction))\n",
    "print(\"Test \")\n",
    "logistc_prediction = logit_skn.predict(Xb_test[new_features])\n",
    "print(metrics.accuracy_score(yb_test, logistc_prediction))\n",
    "print(metrics.precision_score(yb_test, logistc_prediction))\n",
    "print(metrics.recall_score(yb_test, logistc_prediction))"
   ]
  },
  {
   "cell_type": "markdown",
   "metadata": {},
   "source": [
    "## XGBOOST"
   ]
  },
  {
   "cell_type": "code",
   "execution_count": 26,
   "metadata": {},
   "outputs": [],
   "source": [
    "## XGBOOST\n",
    "hyper = OrderedDict({\n",
    "    'kfold':[5],\n",
    "    'n_estimators': [1,10,1],\n",
    "    'max_depth': range(1,10,1),\n",
    "    'learning_rate': [0.005,0.01,0.03,0.05,0.1],\n",
    "    'subsample': np.arange(0.10,1.0, 0.10),\n",
    "    'min_child_weight': range(1, 10,1),\n",
    "    'scale_pos_weight':[0.3,1,0.1]\n",
    "})"
   ]
  },
  {
   "cell_type": "code",
   "execution_count": 27,
   "metadata": {},
   "outputs": [
    {
     "name": "stderr",
     "output_type": "stream",
     "text": [
      "C:\\Users\\suresh.nagulavancha\\Anaconda3\\lib\\site-packages\\xgboost\\sklearn.py:1146: UserWarning: The use of label encoder in XGBClassifier is deprecated and will be removed in a future release. To remove this warning, do the following: 1) Pass option use_label_encoder=False when constructing XGBClassifier object; and 2) Encode your labels (y) as integers starting with 0, i.e. 0, 1, 2, ..., [num_class - 1].\n",
      "  warnings.warn(label_encoder_deprecation_msg, UserWarning)\n",
      "C:\\Users\\suresh.nagulavancha\\Anaconda3\\lib\\site-packages\\sklearn\\utils\\validation.py:72: DataConversionWarning: A column-vector y was passed when a 1d array was expected. Please change the shape of y to (n_samples, ), for example using ravel().\n",
      "  return f(**kwargs)\n"
     ]
    },
    {
     "name": "stdout",
     "output_type": "stream",
     "text": [
      "[17:03:48] WARNING: C:/Users/Administrator/workspace/xgboost-win64_release_1.4.0/src/learner.cc:573: \n",
      "Parameters: { \"scale_pos_wegiht\" } might not be used.\n",
      "\n",
      "  This may not be accurate due to some parameters are only used in language bindings but\n",
      "  passed down to XGBoost core.  Or some parameters are not used but slip through this\n",
      "  verification. Please open an issue if you find above cases.\n",
      "\n",
      "\n",
      "[17:03:49] WARNING: C:/Users/Administrator/workspace/xgboost-win64_release_1.4.0/src/learner.cc:1095: Starting in XGBoost 1.3.0, the default evaluation metric used with the objective 'binary:logistic' was changed from 'error' to 'logloss'. Explicitly set eval_metric if you'd like to restore the old behavior.\n",
      "\n"
     ]
    }
   ],
   "source": [
    "## Defining the model\n",
    "xgb = xgboost.sklearn.XGBClassifier(learning_rate =0.005,n_estimators=3,max_depth=30,min_child_weight=3,subsample=1,\\\n",
    "                         objective= 'binary:logistic',seed=SEED, scale_pos_wegiht=1,gamma=1,max_delta_step=2, reg_alpha=9)\n",
    "xgb.fit(X_train, y_train)\n",
    "#xgb_b = xgboost.sklearn.XGBClassifier(learning_rate =0.005,n_estimators=10,max_depth=4,min_child_weight=5,subsample=1,\\\n",
    "#                         objective= 'binary:logistic',seed=SEED)\n",
    "#xgb_b.fit(Xb_train, yb_train)\n",
    "print(\"\")"
   ]
  },
  {
   "cell_type": "code",
   "execution_count": 28,
   "metadata": {},
   "outputs": [],
   "source": [
    "results_train = xgb.predict_proba(X_train)\n",
    "results_train_v2 = xgb.predict(X_train)\n",
    "results_test = xgb.predict_proba(X_test)\n",
    "results_test_v2 = xgb.predict(X_test)\n",
    "#results_train_b = xgb_b.predict_proba(Xb_train)\n",
    "#results_train_v2_b = xgb_b.predict(Xb_train)\n",
    "#results_test_b = xgb_b.predict_proba(Xb_test)\n",
    "#results_test_v2_b = xgb_b.predict(Xb_test)"
   ]
  },
  {
   "cell_type": "code",
   "execution_count": 32,
   "metadata": {},
   "outputs": [
    {
     "name": "stdout",
     "output_type": "stream",
     "text": [
      "Model Statistics for training data\n",
      "Predicted     0     1\n",
      "Actual               \n",
      "0          2316  1538\n",
      "1          1532  8130\n",
      "\n",
      "Precision is:  0.8409184940008275\n",
      "Recall is:  0.8414406955081764\n",
      "Overall_Accuracy is:  0.7728617934300088\n",
      "**************************************************\n",
      "Model Statistics for test data\n",
      "Predicted     0     1\n",
      "Actual               \n",
      "0          1039   964\n",
      "1           992  4283\n",
      "\n",
      "Precision is:  0.8162759672193635\n",
      "Recall is:  0.8119431279620853\n",
      "Overall_Accuracy is:  0.731244847485573\n"
     ]
    }
   ],
   "source": [
    "print(\"Model Statistics for training data\")\n",
    "classification_stats(y_train.values.ravel(), results_train[:,1], results_train_v2)\n",
    "print(\"*****\"*10)\n",
    "print(\"Model Statistics for test data\")\n",
    "classification_stats(y_test.values.ravel(), results_test[:,1], results_test_v2)"
   ]
  },
  {
   "cell_type": "code",
   "execution_count": null,
   "metadata": {},
   "outputs": [],
   "source": [
    "xgb.feature_importances_"
   ]
  },
  {
   "cell_type": "code",
   "execution_count": 33,
   "metadata": {},
   "outputs": [
    {
     "data": {
      "text/plain": [
       "array([0.        , 0.        , 0.        , 0.        , 0.        ,\n",
       "       0.        , 0.        , 0.00262302, 0.00154574, 0.00702005,\n",
       "       0.        , 0.        , 0.00819221, 0.00834113, 0.00169987,\n",
       "       0.0016372 , 0.        , 0.16005133, 0.        , 0.00216387,\n",
       "       0.        , 0.00320267, 0.        , 0.        , 0.00433253,\n",
       "       0.00772985, 0.00662609, 0.        , 0.01790803, 0.00190869,\n",
       "       0.        , 0.        , 0.00227297, 0.0180864 , 0.        ,\n",
       "       0.        , 0.00110679, 0.        , 0.        , 0.        ,\n",
       "       0.        , 0.07308543, 0.        , 0.00122111, 0.        ,\n",
       "       0.00220141, 0.        , 0.        , 0.        , 0.        ,\n",
       "       0.0390757 , 0.        , 0.        , 0.        , 0.        ,\n",
       "       0.        , 0.        , 0.00152446, 0.00245623, 0.03259165,\n",
       "       0.        , 0.        , 0.00602653, 0.        , 0.04621453,\n",
       "       0.        , 0.        , 0.00539874, 0.        , 0.00166725,\n",
       "       0.10626037, 0.        , 0.10251787, 0.        , 0.        ,\n",
       "       0.21865582, 0.        , 0.01264294, 0.        , 0.        ,\n",
       "       0.        , 0.00179108, 0.02415155, 0.        , 0.        ,\n",
       "       0.        , 0.        , 0.01458068, 0.        , 0.        ,\n",
       "       0.        , 0.00155655, 0.00258622, 0.00316134, 0.00299286,\n",
       "       0.        , 0.00154862, 0.        , 0.00252582, 0.00244396,\n",
       "       0.00215852, 0.03081712, 0.        , 0.00169723, 0.        ],\n",
       "      dtype=float32)"
      ]
     },
     "execution_count": 33,
     "metadata": {},
     "output_type": "execute_result"
    }
   ],
   "source": [
    "xgb.feature_importances_"
   ]
  },
  {
   "cell_type": "code",
   "execution_count": 31,
   "metadata": {},
   "outputs": [],
   "source": [
    "#print(\"Model Statistics for training data\")\n",
    "#classification_stats(yb_train.values.ravel(), results_train_b[:,1], results_train_v2_b)\n",
    "#print(\"*****\"*10)\n",
    "#print(\"Model Statistics for test data\")\n",
    "#classification_stats(yb_test.values.ravel(), results_test_b[:,1], results_test_v2_b)"
   ]
  },
  {
   "cell_type": "markdown",
   "metadata": {},
   "source": [
    "## Random Forest"
   ]
  },
  {
   "cell_type": "code",
   "execution_count": null,
   "metadata": {},
   "outputs": [],
   "source": [
    "## Random Forest\n",
    "model_rf = RandomForestClassifier(n_estimators=10, class_weight={0:1.5,1:1})\n",
    "model_rf_b  = RandomForestClassifier(n_estimators=10)\n",
    "hyper_rf = OrderedDict({\n",
    "    'n_estimators': [10,1000,100],\n",
    "    'max_depth': range(1,10,1),\n",
    "    'min_samples_split':[10,100,10],\n",
    "    'min_samples_leaf':[1,10,1],\n",
    "    'max_features':['auto','sqrt'],\n",
    "    'bootstrap':[True,False]\n",
    "})\n",
    "#model_rf_cv = GridSearchCV(estimator=model_rf, param_grid=hyper_rf, n_jobs=-1) \n",
    "model_rf_cv = RandomizedSearchCV(estimator=model_rf, param_distributions=hyper_rf, cv=3, verbose=2, n_jobs=-1)\n",
    "#model_rf_cv_b = RandomizedSearchCV(estimator=model_rf_b, param_distributions=hyper_rf, cv=3, verbose=2, n_jobs=-1)\n",
    "\n",
    "model_rf_cv = model_rf_cv.fit(X_train, y_train)\n",
    "#model_rf_cv_b = model_rf_cv_b.fit(Xb_train, yb_train)"
   ]
  },
  {
   "cell_type": "code",
   "execution_count": null,
   "metadata": {},
   "outputs": [],
   "source": [
    "results_train = model_rf_cv.predict_proba(X_train)\n",
    "results_train_v2 = model_rf_cv.predict(X_train)\n",
    "results_test = model_rf_cv.predict_proba(X_test)\n",
    "results_test_v2 = model_rf_cv.predict(X_test)\n",
    "#results_train_b = model_rf_cv_b.predict_proba(Xb_train)\n",
    "#results_train_v2_b = model_rf_cv_b.predict(Xb_train)\n",
    "#results_test_b = model_rf_cv_b.predict_proba(Xb_test)\n",
    "#results_test_v2_b = model_rf_cv_b.predict(Xb_test)"
   ]
  },
  {
   "cell_type": "code",
   "execution_count": null,
   "metadata": {},
   "outputs": [],
   "source": [
    "print(\"Model Statistics for training data\")\n",
    "classification_stats(y_train.values.ravel(), results_train[:,1], results_train_v2)\n",
    "print(\"*****\"*10)\n",
    "print(\"Model Statistics for test data\")\n",
    "classification_stats(y_test.values.ravel(), results_test[:,1], results_test_v2)"
   ]
  },
  {
   "cell_type": "code",
   "execution_count": null,
   "metadata": {},
   "outputs": [],
   "source": [
    "print(\"Model Statistics for training data\")\n",
    "classification_stats(yb_train.values.ravel(), results_train_b[:,1], results_train_v2_b)\n",
    "print(\"*****\"*10)\n",
    "print(\"Model Statistics for test data\")\n",
    "classification_stats(yb_test.values.ravel(), results_test_b[:,1], results_test_v2_b)"
   ]
  },
  {
   "cell_type": "code",
   "execution_count": null,
   "metadata": {},
   "outputs": [],
   "source": []
  },
  {
   "cell_type": "code",
   "execution_count": null,
   "metadata": {},
   "outputs": [],
   "source": []
  }
 ],
 "metadata": {
  "kernelspec": {
   "display_name": "Python 3",
   "language": "python",
   "name": "python3"
  },
  "language_info": {
   "codemirror_mode": {
    "name": "ipython",
    "version": 3
   },
   "file_extension": ".py",
   "mimetype": "text/x-python",
   "name": "python",
   "nbconvert_exporter": "python",
   "pygments_lexer": "ipython3",
   "version": "3.8.5"
  }
 },
 "nbformat": 4,
 "nbformat_minor": 2
}
