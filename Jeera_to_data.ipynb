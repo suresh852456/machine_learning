{
 "cells": [
  {
   "cell_type": "code",
   "execution_count": 1,
   "metadata": {},
   "outputs": [],
   "source": [
    "import pandas as pd\n",
    "import numpy as np\n",
    "import os"
   ]
  },
  {
   "cell_type": "code",
   "execution_count": 83,
   "metadata": {},
   "outputs": [],
   "source": [
    "jira_issues = pd.DataFrame()\n",
    "DATAPATH = \"jira_defects/\""
   ]
  },
  {
   "cell_type": "code",
   "execution_count": 84,
   "metadata": {},
   "outputs": [
    {
     "name": "stderr",
     "output_type": "stream",
     "text": [
      "C:\\Users\\suresh.nagulavancha\\Anaconda3\\lib\\site-packages\\IPython\\core\\interactiveshell.py:3146: DtypeWarning: Columns (3,4,5,6,7,8,9,10,11,12,13,14,15,16,17,18,19,20,21,22,23,24,25,26,27,28,29,30,31,32,33,34,35,36,37,38,39,40,41,42,43,44,45,46,47,48,49,50,51,52,53,54,55,56,57,58,59,60,61,62,63,64,65,66,67,68,69,70,71,72,73,74,75,76,77,78,79,80,81,82,83,84,85,86,87,88,89,90,91,92,93,94,95,96,97,98,99,100,101,102,103,104,105,106,107,108,109,110,111,112,113,114,115,116,117,118,119,120,121,122,123,124,125,126,127,128,129,130,131,132,133,134,135,136,137,138,139,140,141,142,143,144,145,146,147,148,149,150,151,152,153,154,155,156,157,158,159,160,161,162,163,164,165,166,167,168,169,170,171,172,173,174,175,176,177,178,179,180,181,182,183,184,185,186,187,188,189,190,191,192,193,194,195,196,197,198,199,200,201,202,203,229,234,243,244,251,252,253,255,259,264,276,280,288,291,297,298,300,301,302,303,304,305,306,307,308,309,310,311,312,313,314,315,316,317,318,319,320,321,322,323,324,325,326,327,328,329,330,331,332,333,334,335,336,337,338,339,340,341,342,343,344,345,346,347,348,349,350,351,353,355,361,362,363,367,368,369,370,371,375,376,377,380,383,385,386,387,388,389,390,391,392,393,394,403,404,405,409,410,415,416,419,421,422,423,424,425,426,427,428,429,430,431,433,434,439,446,452,454,457,458,459,460,461,462,464,474,476,480,488,489,490,491,492,493,500,501,502,503,504,505,506,507,508,509,510,511,512,513,514,515,516,517,518,519,520,521,522,523,524,525,526,527,528,529,530,531,532,533,534,535,536,537,538,539,540,541,542) have mixed types.Specify dtype option on import or set low_memory=False.\n",
      "  has_raised = await self.run_ast_nodes(code_ast.body, cell_name,\n"
     ]
    }
   ],
   "source": [
    "for fil in os.listdir('jira_defects'):\n",
    "    if fil.endswith(\"csv\"):\n",
    "        jira_data = pd.read_csv(DATAPATH+fil)\n",
    "    elif fil.endswith(\"xlsx\"):\n",
    "        jira_data = pd.read_excel(DATAPATH+fil)\n",
    "    jira_data['Remove_flag_v2'] = jira_data['Issue key'].str.match('\\w+-\\d+')\n",
    "    jira_data = jira_data[jira_data['Remove_flag_v2']==True]\n",
    "    custom_cols = [x for x in jira_data.columns.tolist() if 'Custom field' in x]\n",
    "    outward_cols = [x for x in jira_data.columns.tolist() if 'Outward issue link' in x]\n",
    "    jira_data.drop(custom_cols, axis=1, inplace=True)\n",
    "    jira_data.drop(outward_cols, axis=1, inplace=True)\n",
    "    jira_issues = jira_issues.append(jira_data, ignore_index=True)"
   ]
  },
  {
   "cell_type": "code",
   "execution_count": 4,
   "metadata": {},
   "outputs": [],
   "source": [
    "jira_issues = jira_issues.drop_duplicates()"
   ]
  },
  {
   "cell_type": "code",
   "execution_count": 5,
   "metadata": {},
   "outputs": [],
   "source": [
    "jira_issues = jira_issues.groupby('Issue key').first().reset_index()"
   ]
  },
  {
   "cell_type": "code",
   "execution_count": 6,
   "metadata": {},
   "outputs": [],
   "source": [
    "jira_issues.drop(['Remove_flag_v2'], axis=1, inplace=True)"
   ]
  },
  {
   "cell_type": "code",
   "execution_count": 7,
   "metadata": {},
   "outputs": [
    {
     "data": {
      "text/plain": [
       "(20794, 1301)"
      ]
     },
     "execution_count": 7,
     "metadata": {},
     "output_type": "execute_result"
    }
   ],
   "source": [
    "jira_issues.shape"
   ]
  },
  {
   "cell_type": "code",
   "execution_count": 8,
   "metadata": {},
   "outputs": [],
   "source": [
    "null_percent = pd.DataFrame(jira_issues.isnull().sum()/jira_issues.shape[0]).reset_index()\n",
    "null_percent.columns = ['Column',\"Percentage\"]"
   ]
  },
  {
   "cell_type": "code",
   "execution_count": 9,
   "metadata": {},
   "outputs": [],
   "source": [
    "null_percent['To_remove'] = null_percent['Percentage']>0.999"
   ]
  },
  {
   "cell_type": "code",
   "execution_count": 10,
   "metadata": {},
   "outputs": [],
   "source": [
    "null_columns = null_percent[null_percent['To_remove']==True]['Column'].tolist()"
   ]
  },
  {
   "cell_type": "code",
   "execution_count": 11,
   "metadata": {},
   "outputs": [],
   "source": [
    "jira_issues.drop(null_columns, axis=1, inplace=True)"
   ]
  },
  {
   "cell_type": "code",
   "execution_count": 12,
   "metadata": {},
   "outputs": [],
   "source": [
    "cols_to_drop = ['Project lead','Project name','Project type','Project url','Priority','Assignee','Reporter','Creator',\\\n",
    "               'Created','Updated','Last Viewed','Due Date','Votes','Watchers','Original Estimate','Remaining Estimate',\\\n",
    "               'Time Spent','Work Ratio','Σ Original Estimate','Σ Remaining Estimate', 'Σ Time Spent','Security Level',\\\n",
    "                'Watchers.1', 'Watchers.2', 'Watchers.3', 'Watchers.4', 'Watchers.5','Watchers.6', 'Watchers.7','Watchers.8',\\\n",
    "                'Watchers.9','Watchers.10', 'Watchers.11', 'Watchers.12', 'Watchers.13','Watchers.14','Watchers.15',\\\n",
    "                'Watchers.16', 'Watchers.17','Watchers.18', 'Watchers.19', 'Watchers.20','Sprint','Parent id','Resolved','Issue id']"
   ]
  },
  {
   "cell_type": "code",
   "execution_count": 13,
   "metadata": {},
   "outputs": [],
   "source": [
    "jira_issues.drop(cols_to_drop, axis=1, inplace=True)"
   ]
  },
  {
   "cell_type": "code",
   "execution_count": 137,
   "metadata": {},
   "outputs": [],
   "source": [
    "log_columns = [x for x in jira_issues.columns.tolist() if x.startswith(\"Log Work\")]\n",
    "attach_columns = [x for x in jira_issues.columns.tolist() if x.startswith(\"Attachment\")]\n",
    "comments_columns = [x for x in jira_issues.columns.tolist() if x.startswith(\"Comment\")]\n",
    "labels_column = [x for x in jira_issues.columns.tolist() if x.startswith(\"Labels\")]"
   ]
  },
  {
   "cell_type": "code",
   "execution_count": 56,
   "metadata": {},
   "outputs": [],
   "source": [
    "jira_issues['Log_Text_Complete'] = jira_issues[log_columns].apply(lambda row:\"_\".join(row.values.astype(str)), axis=1)\n",
    "jira_issues['attach_complete'] = jira_issues[attach_columns].apply(lambda row:\"_\".join(row.values.astype(str)), axis=1)\n",
    "jira_issues['comments_complete'] = jira_issues[comments_columns].apply(lambda row:\"_\".join(row.values.astype(str)), axis=1)\n",
    "jira_issues['Labels_complete'] = jira_issues[labels_column].apply(lambda row:\"_\".join(row.values.astype(str)), axis=1)"
   ]
  },
  {
   "cell_type": "code",
   "execution_count": 103,
   "metadata": {},
   "outputs": [],
   "source": [
    "jira_issues['Log_text_extract'] = jira_issues['Log_Text_Complete'].apply(lambda text: 1 if \"pull request\" in text.lower() else 0)"
   ]
  },
  {
   "cell_type": "code",
   "execution_count": 104,
   "metadata": {},
   "outputs": [],
   "source": [
    "jira_issues['attachment_extract'] = jira_issues['attach_complete'].apply(lambda text: 1 if \"patch\" in text.lower() or \"diff\" in text.lower() else 0)"
   ]
  },
  {
   "cell_type": "code",
   "execution_count": 105,
   "metadata": {},
   "outputs": [],
   "source": [
    "jira_issues['comments_extract'] = jira_issues['comments_complete'].apply(lambda text: 1 if \"commit\" in text.lower() or \"pull\" in text.lower() or \"code changes\" in text.lower() or \"code changed\" in text.lower() or \"fixed\" in text.lower() or \"commited\" in text.lower() or \"github\" in text.lower() or \"overall\" in text.lower() else 0)"
   ]
  },
  {
   "cell_type": "code",
   "execution_count": 106,
   "metadata": {},
   "outputs": [],
   "source": [
    "jira_issues['Label_extract'] = jira_issues['Labels_complete'].apply(lambda text: 1 if \"pull\" in str(text).lower() or \"fix\" in str(text).lower() or \"issue\" in str(text).lower() else 0)"
   ]
  },
  {
   "cell_type": "code",
   "execution_count": 107,
   "metadata": {},
   "outputs": [],
   "source": [
    "jira_issues['Final_extract']  = np.logical_or.reduce((jira_issues['Log_text_extract'],jira_issues['attachment_extract'],jira_issues['comments_extract'],jira_issues['Label_extract']))"
   ]
  },
  {
   "cell_type": "code",
   "execution_count": 108,
   "metadata": {},
   "outputs": [
    {
     "data": {
      "text/plain": [
       "True     14937\n",
       "False     5857\n",
       "Name: Final_extract, dtype: int64"
      ]
     },
     "execution_count": 108,
     "metadata": {},
     "output_type": "execute_result"
    }
   ],
   "source": [
    "jira_issues['Final_extract'].value_counts()"
   ]
  },
  {
   "cell_type": "code",
   "execution_count": 144,
   "metadata": {},
   "outputs": [],
   "source": [
    "import itertools\n",
    "drop_cols = list(itertools.chain(log_columns, comments_columns, attach_columns))"
   ]
  },
  {
   "cell_type": "code",
   "execution_count": 146,
   "metadata": {},
   "outputs": [],
   "source": [
    "jira_issues.drop(drop_cols, axis=1, inplace=True)"
   ]
  },
  {
   "cell_type": "code",
   "execution_count": 151,
   "metadata": {},
   "outputs": [],
   "source": [
    "jira_issues.drop(['Log_Text_Complete','attach_complete','comments_complete','Labels_complete'], axis=1, inplace=True)"
   ]
  },
  {
   "cell_type": "code",
   "execution_count": 156,
   "metadata": {},
   "outputs": [],
   "source": [
    "jira_issues.to_csv(\"Jira_issues_261021.csv\", line_terminator='\\n')"
   ]
  },
  {
   "cell_type": "markdown",
   "metadata": {},
   "source": [
    "## Done till Here"
   ]
  },
  {
   "cell_type": "code",
   "execution_count": 157,
   "metadata": {},
   "outputs": [],
   "source": [
    "## Extract stacktrace if exist"
   ]
  },
  {
   "cell_type": "code",
   "execution_count": 2,
   "metadata": {},
   "outputs": [
    {
     "name": "stderr",
     "output_type": "stream",
     "text": [
      "C:\\Users\\suresh.nagulavancha\\Anaconda3\\lib\\site-packages\\IPython\\core\\interactiveshell.py:3146: DtypeWarning: Columns (32,33) have mixed types.Specify dtype option on import or set low_memory=False.\n",
      "  has_raised = await self.run_ast_nodes(code_ast.body, cell_name,\n"
     ]
    }
   ],
   "source": [
    "jira_issues = pd.read_csv(\"Jira_issues_261021.csv\")"
   ]
  },
  {
   "cell_type": "code",
   "execution_count": 15,
   "metadata": {},
   "outputs": [],
   "source": [
    "jira_issues['code_exist']=jira_issues['Description'].apply(lambda x:1 if \"{code\" in str(x) else 0)"
   ]
  },
  {
   "cell_type": "code",
   "execution_count": 105,
   "metadata": {},
   "outputs": [],
   "source": [
    "def extract_code(text):\n",
    "    codes = \"\"\n",
    "    split_text = str(text).split(\"{code\")\n",
    "    for i,te in enumerate(split_text):\n",
    "        if i%2==1:\n",
    "            codes+=\"}\".join(te.split(\"}\")[1:]).strip()\n",
    "    return codes\n",
    "\n",
    "def remove_code(text):\n",
    "    description = \"\"\n",
    "    split_text = str(text).split(\"{code\")\n",
    "    if len(split_text)==1:\n",
    "        return split_text[0]\n",
    "    for i,te in enumerate(split_text):\n",
    "        if i%2==0:\n",
    "            description+=\"}\".join(te.split(\"}\")[1:]).strip()\n",
    "    return description"
   ]
  },
  {
   "cell_type": "code",
   "execution_count": 106,
   "metadata": {},
   "outputs": [],
   "source": [
    "jira_issues['codes'] = jira_issues['Description'].apply(extract_code)\n",
    "jira_issues['Description_code_less'] = jira_issues['Description'].apply(remove_code)"
   ]
  },
  {
   "cell_type": "code",
   "execution_count": 110,
   "metadata": {},
   "outputs": [],
   "source": [
    "jira_issues.to_csv(\"Jira_issues_261021.csv\", line_terminator='\\n', index=False)"
   ]
  },
  {
   "cell_type": "code",
   "execution_count": 111,
   "metadata": {},
   "outputs": [],
   "source": [
    "## Done till here"
   ]
  },
  {
   "cell_type": "code",
   "execution_count": 4,
   "metadata": {},
   "outputs": [],
   "source": [
    "#TF-IDF, Word2vec, Spacy"
   ]
  },
  {
   "cell_type": "code",
   "execution_count": 5,
   "metadata": {},
   "outputs": [],
   "source": [
    "## TF-IDF Data"
   ]
  },
  {
   "cell_type": "code",
   "execution_count": 6,
   "metadata": {},
   "outputs": [
    {
     "name": "stderr",
     "output_type": "stream",
     "text": [
      "C:\\Users\\suresh.nagulavancha\\Anaconda3\\lib\\site-packages\\IPython\\core\\interactiveshell.py:3146: DtypeWarning: Columns (31,32) have mixed types.Specify dtype option on import or set low_memory=False.\n",
      "  has_raised = await self.run_ast_nodes(code_ast.body, cell_name,\n"
     ]
    }
   ],
   "source": [
    "jira_issues = pd.read_csv(\"jira_issues_261021.csv\")"
   ]
  },
  {
   "cell_type": "code",
   "execution_count": 8,
   "metadata": {},
   "outputs": [],
   "source": [
    "## TF-IDF Data"
   ]
  },
  {
   "cell_type": "code",
   "execution_count": 9,
   "metadata": {},
   "outputs": [],
   "source": [
    "jira_issues_tfidf = jira_issues.copy()"
   ]
  },
  {
   "cell_type": "code",
   "execution_count": 97,
   "metadata": {},
   "outputs": [],
   "source": [
    "from nltk.corpus import stopwords\n",
    "from nltk.tokenize import word_tokenize,sent_tokenize\n",
    "from nltk.stem import WordNetLemmatizer\n",
    "from sklearn.feature_extraction.text import TfidfVectorizer\n",
    "from gensim.models.doc2vec import Doc2Vec, TaggedDocument\n",
    "from tqdm import tqdm"
   ]
  },
  {
   "cell_type": "code",
   "execution_count": 69,
   "metadata": {},
   "outputs": [],
   "source": [
    "sw = set(stopwords.words(\"english\"))\n",
    "lemmatizer = WordNetLemmatizer()\n",
    "vectorizer = TfidfVectorizer()"
   ]
  },
  {
   "cell_type": "code",
   "execution_count": 63,
   "metadata": {},
   "outputs": [
    {
     "data": {
      "text/plain": [
       "Index(['Issue key', 'Summary', 'Issue Type', 'Status', 'Project key',\n",
       "       'Project description', 'Resolution', 'Affects Version/s',\n",
       "       'Affects Version/s.1', 'Affects Version/s.2', 'Affects Version/s.3',\n",
       "       'Affects Version/s.4', 'Affects Version/s.5', 'Fix Version/s',\n",
       "       'Fix Version/s.1', 'Fix Version/s.2', 'Fix Version/s.3',\n",
       "       'Fix Version/s.4', 'Component/s', 'Component/s.1', 'Component/s.2',\n",
       "       'Component/s.3', 'Labels', 'Labels.1', 'Description', 'Environment',\n",
       "       'Affects Version/s.6', 'Affects Version/s.7', 'Labels.2', 'Labels.3',\n",
       "       'Labels.4', 'Labels.5', 'Labels.6', 'Log_text_extract',\n",
       "       'attachment_extract', 'comments_extract', 'Label_extract',\n",
       "       'Final_extract', 'code_exist', 'codes', 'Description_code_less'],\n",
       "      dtype='object')"
      ]
     },
     "execution_count": 63,
     "metadata": {},
     "output_type": "execute_result"
    }
   ],
   "source": [
    "jira_issues_tfidf.columns"
   ]
  },
  {
   "cell_type": "code",
   "execution_count": 64,
   "metadata": {},
   "outputs": [],
   "source": [
    "cols_intrest = ['Summary','Issue Type','Component/s','Component/s','Labels','codes','Description_code_less','Description']"
   ]
  },
  {
   "cell_type": "code",
   "execution_count": null,
   "metadata": {},
   "outputs": [],
   "source": [
    "## Lower, remove puncts, lemma, stopwords, num2words"
   ]
  },
  {
   "cell_type": "code",
   "execution_count": 66,
   "metadata": {},
   "outputs": [],
   "source": [
    "def remove_stopwords_do_lemma(text):\n",
    "    text = str(text)\n",
    "    text_tokens = word_tokenize(text)\n",
    "    text_filtered = [lemmatizer.lemmatize(word) for word in text_tokens if not word in sw]\n",
    "    return \" \".join(text_filtered)"
   ]
  },
  {
   "cell_type": "code",
   "execution_count": 67,
   "metadata": {},
   "outputs": [],
   "source": [
    "symbols = \"!\\\"#$%&()*+-./:;<=>?@[\\]^_`{|}~\\n\\r\"\n",
    "for col in cols_intrest:\n",
    "    if col=='codes':\n",
    "        continue\n",
    "    else:\n",
    "        jira_issues_tfidf[col] = jira_issues_tfidf[col].str.lower()\n",
    "        jira_issues_tfidf[col] = jira_issues_tfidf[col].apply(remove_stopwords_do_lemma)\n",
    "        jira_issues_tfidf[col] = jira_issues_tfidf[col].apply(lambda x:\"\".join([char for char in x if char not in symbols]))\n",
    "        "
   ]
  },
  {
   "cell_type": "code",
   "execution_count": 87,
   "metadata": {},
   "outputs": [],
   "source": [
    "def tokenize_text(text):\n",
    "    tokens = []\n",
    "    for sent in sent_tokenize(text):\n",
    "        for word in word_tokenize(sent):\n",
    "            if len(word) < 2:\n",
    "                continue\n",
    "            tokens.append(word.lower())\n",
    "    return tokens"
   ]
  },
  {
   "cell_type": "code",
   "execution_count": 88,
   "metadata": {},
   "outputs": [],
   "source": [
    "jira_issues_summary_docvec = jira_issues_tfidf.apply(lambda r: TaggedDocument(words=tokenize_text(r['Summary']), tags=[r['Project key']]), axis=1)"
   ]
  },
  {
   "cell_type": "code",
   "execution_count": 93,
   "metadata": {},
   "outputs": [],
   "source": [
    "jira_issues_description_doc2vec = jira_issues_tfidf.apply(lambda r: TaggedDocument(words=tokenize_text(r['Description_code_less']), tags=[r['Project key']]), axis=1)\n",
    "jira_issues_descriptionwcode_doc2vec = jira_issues_tfidf.apply(lambda r:TaggedDocument(words=tokenize_text(r['Description']), tags=[r['Project key']]), axis=1)"
   ]
  },
  {
   "cell_type": "code",
   "execution_count": 90,
   "metadata": {},
   "outputs": [],
   "source": [
    "import multiprocessing\n",
    "cores = multiprocessing.cpu_count()"
   ]
  },
  {
   "cell_type": "code",
   "execution_count": 123,
   "metadata": {},
   "outputs": [
    {
     "name": "stderr",
     "output_type": "stream",
     "text": [
      "100%|███████████████████████████████████████████████████████████████████████| 20794/20794 [00:00<00:00, 2599128.54it/s]\n",
      "100%|████████████████████████████████████████████████████████████████████████████████████| 20794/20794 [00:00<?, ?it/s]\n",
      "100%|███████████████████████████████████████████████████████████████████████| 20794/20794 [00:00<00:00, 2577010.91it/s]\n"
     ]
    }
   ],
   "source": [
    "model_dbow = Doc2Vec(dm=0, vector_size=300, negative=5, hs=0, min_count=2, sample = 0, workers=cores)\n",
    "model_dbow.build_vocab([x for x in tqdm(jira_issues_summary_docvec.values)])\n",
    "model_dbow_desc = Doc2Vec(dm=0, vector_size=300, negative=5, hs=0, min_count=2, sample = 0, workers=cores)\n",
    "model_dbow_desc.build_vocab([x for x in tqdm(jira_issues_description_doc2vec.values)])\n",
    "model_dbow_wcode = Doc2Vec(dm=0, vector_size=300, negative=5, hs=0, min_count=2, sample = 0, workers=cores)\n",
    "model_dbow_wcode.build_vocab([x for x in tqdm(jira_issues_descriptionwcode_doc2vec.values)])"
   ]
  },
  {
   "cell_type": "code",
   "execution_count": 124,
   "metadata": {},
   "outputs": [],
   "source": [
    "for epoch in range(30):\n",
    "    model_dbow.train(jira_issues_summary_docvec, total_examples=len(jira_issues_summary_docvec.values), epochs=1)\n",
    "    model_dbow.alpha -= 0.002\n",
    "    model_dbow.min_alpha = model_dbow.alpha\n",
    "    model_dbow_desc.train(jira_issues_description_doc2vec, total_examples=len(jira_issues_description_doc2vec.values), epochs=1)\n",
    "    model_dbow_desc.alpha -= 0.002\n",
    "    model_dbow_desc.min_alpha = model_dbow_desc.alpha\n",
    "    model_dbow_wcode.train(jira_issues_descriptionwcode_doc2vec, total_examples=len(jira_issues_descriptionwcode_doc2vec.values), epochs=1)\n",
    "    model_dbow_wcode.alpha -= 0.002\n",
    "    model_dbow_wcode.min_alpha = model_dbow_wcode.alpha"
   ]
  },
  {
   "cell_type": "code",
   "execution_count": 126,
   "metadata": {},
   "outputs": [],
   "source": [
    "def vec_for_learning(model, tagged_docs):\n",
    "    sents = tagged_docs.values\n",
    "    targets, regressors = zip(*[(doc.tags[0], model.infer_vector(doc.words, steps=20)) for doc in sents])\n",
    "    return regressors"
   ]
  },
  {
   "cell_type": "code",
   "execution_count": 127,
   "metadata": {},
   "outputs": [],
   "source": [
    "summary_df = pd.DataFrame(vec_for_learning(model_dbow, jira_issues_summary_docvec))\n",
    "desc_df = pd.DataFrame(vec_for_learning(model_dbow_desc, jira_issues_description_doc2vec))\n",
    "desc_wcode_df = pd.DataFrame(vec_for_learning(model_dbow_wcode, jira_issues_descriptionwcode_doc2vec))"
   ]
  },
  {
   "cell_type": "code",
   "execution_count": 129,
   "metadata": {},
   "outputs": [],
   "source": [
    "summary_df.columns = [\"summary_\"+str(i) for i in range(300)]\n",
    "desc_df.columns = [\"description_\"+str(i) for i in range(300)]\n",
    "desc_wcode_df.columns = [\"wcode_\"+str(i) for i in range(300)]"
   ]
  },
  {
   "cell_type": "code",
   "execution_count": 154,
   "metadata": {},
   "outputs": [],
   "source": [
    "jira_issues['Final_extract'] = jira_issues['Final_extract'].astype(int)"
   ]
  },
  {
   "cell_type": "code",
   "execution_count": 155,
   "metadata": {},
   "outputs": [],
   "source": [
    "dataset_build_target = jira_issues[['Issue key','Issue Type','Project key','Final_extract']]"
   ]
  },
  {
   "cell_type": "code",
   "execution_count": 158,
   "metadata": {},
   "outputs": [],
   "source": [
    "dataset_build = pd.concat([dataset_build_target,summary_df, desc_df, desc_wcode_df], axis=1)"
   ]
  },
  {
   "cell_type": "code",
   "execution_count": 160,
   "metadata": {},
   "outputs": [],
   "source": [
    "dataset_build.to_csv(\"Final_data_defect_classification.csv\", line_terminator='\\n', index=False)"
   ]
  }
 ],
 "metadata": {
  "kernelspec": {
   "display_name": "Python 3",
   "language": "python",
   "name": "python3"
  },
  "language_info": {
   "codemirror_mode": {
    "name": "ipython",
    "version": 3
   },
   "file_extension": ".py",
   "mimetype": "text/x-python",
   "name": "python",
   "nbconvert_exporter": "python",
   "pygments_lexer": "ipython3",
   "version": "3.8.5"
  }
 },
 "nbformat": 4,
 "nbformat_minor": 4
}
