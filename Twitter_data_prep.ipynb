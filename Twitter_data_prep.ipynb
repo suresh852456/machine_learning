{
 "cells": [
  {
   "cell_type": "code",
   "execution_count": 1,
   "metadata": {},
   "outputs": [],
   "source": [
    "import os\n",
    "import re\n",
    "import string\n",
    "import random\n",
    "import pickle\n",
    "\n",
    "import emoji\n",
    "import pandas as pd\n",
    "import numpy as np\n",
    "import sklearn\n",
    "import nltk\n",
    "from nltk import sent_tokenize, word_tokenize\n",
    "from nltk.stem.wordnet import WordNetLemmatizer\n",
    "from nltk.corpus import stopwords\n",
    "from sklearn.feature_extraction.text import TfidfVectorizer\n",
    "from sklearn.cluster import KMeans, MiniBatchKMeans\n",
    "\n",
    "from sklearn.metrics import silhouette_samples, silhouette_score\n",
    "from gensim.models import Word2Vec\n",
    "#from deep_translator import GoogleTranslator\n",
    "#from googletrans import Translator\n",
    "#from translate import Translator"
   ]
  },
  {
   "cell_type": "code",
   "execution_count": 2,
   "metadata": {},
   "outputs": [],
   "source": [
    "DATAPATH = \"C://Users//suresh.nagulavancha//Documents//twitter_data//\""
   ]
  },
  {
   "cell_type": "code",
   "execution_count": 3,
   "metadata": {},
   "outputs": [
    {
     "name": "stderr",
     "output_type": "stream",
     "text": [
      "[nltk_data] Downloading package stopwords to\n",
      "[nltk_data]     C:\\Users\\suresh.nagulavancha\\AppData\\Roaming\\nltk_data\n",
      "[nltk_data]     ...\n",
      "[nltk_data]   Package stopwords is already up-to-date!\n",
      "[nltk_data] Downloading package wordnet to\n",
      "[nltk_data]     C:\\Users\\suresh.nagulavancha\\AppData\\Roaming\\nltk_data\n",
      "[nltk_data]     ...\n",
      "[nltk_data]   Package wordnet is already up-to-date!\n",
      "[nltk_data] Downloading package punkt to\n",
      "[nltk_data]     C:\\Users\\suresh.nagulavancha\\AppData\\Roaming\\nltk_data\n",
      "[nltk_data]     ...\n",
      "[nltk_data]   Package punkt is already up-to-date!\n"
     ]
    }
   ],
   "source": [
    "nltk.download('stopwords')\n",
    "#translator = Translator(from_lang='autodetect', to_lang='en')\n",
    "nltk.download('wordnet')\n",
    "nltk.download('punkt')\n",
    "SEED = 42\n",
    "random.seed(SEED)\n",
    "np.random.seed(SEED)"
   ]
  },
  {
   "cell_type": "code",
   "execution_count": 4,
   "metadata": {},
   "outputs": [
    {
     "name": "stderr",
     "output_type": "stream",
     "text": [
      "C:\\Users\\suresh.nagulavancha\\Anaconda3\\lib\\site-packages\\IPython\\core\\interactiveshell.py:3146: DtypeWarning: Columns (9) have mixed types.Specify dtype option on import or set low_memory=False.\n",
      "  has_raised = await self.run_ast_nodes(code_ast.body, cell_name,\n"
     ]
    }
   ],
   "source": [
    "## Getting Verizon Data\n",
    "verizon_data = pd.read_csv(DATAPATH+\"verizonsupport.csv\")"
   ]
  },
  {
   "cell_type": "code",
   "execution_count": 5,
   "metadata": {},
   "outputs": [],
   "source": [
    "## Dropping the unnceseeary columns\n",
    "cols_to_keep = ['id','conversation_id','date','time','user_id','username','name','tweet',\\\n",
    "                'language','mentions','replies_count','retweets_count','likes_count','hashtags','cashtags']\n",
    "verizon_data = verizon_data[cols_to_keep]"
   ]
  },
  {
   "cell_type": "code",
   "execution_count": 6,
   "metadata": {},
   "outputs": [],
   "source": [
    "## Getting the userlist with name Verizon. \n",
    "## Assuming that other than Verizon accounts, any user using Verizon name for complaining to verizon are not genuine,\n",
    "## Because they are not using their name.\n",
    "## Official accounts assuming are [verizonsupport, verizonfios, verizon,verizonconnet, verizon_5g, verizonmedia, verizonmedia_uk]\n",
    "verizon_username_list = verizon_data[verizon_data['username'].str.contains('verizon')]['username'].unique().tolist()\n",
    "verizon_data_filtered = verizon_data[~verizon_data['username'].isin(verizon_username_list)]"
   ]
  },
  {
   "cell_type": "code",
   "execution_count": 7,
   "metadata": {},
   "outputs": [],
   "source": [
    "## Removing only smily tweets\n",
    "#verizon_data_filtered = verizon_data_filtered[verizon_data_filtered['language']=='und']\n",
    "verizon_data_filtered = verizon_data_filtered[verizon_data_filtered['language']=='en']\n",
    "#verizon_non_english_tweets = verizon_data_filtered[verizon_data_filtered['language']!='en']"
   ]
  },
  {
   "cell_type": "code",
   "execution_count": 8,
   "metadata": {},
   "outputs": [],
   "source": [
    "## now we need to translate other language tweets to common language. here we are using English\n",
    "#verizon_non_english_tweets['tweet_english'] = verizon_non_english_tweets['tweet'].apply(lambda x:translator.translate(x))"
   ]
  },
  {
   "cell_type": "code",
   "execution_count": 9,
   "metadata": {},
   "outputs": [],
   "source": [
    "#verizon_data_filtered_v1 = verizon_data_filtered[['username','name','date','time','tweet']]"
   ]
  },
  {
   "cell_type": "code",
   "execution_count": 10,
   "metadata": {},
   "outputs": [],
   "source": [
    "stop_words = stopwords.words('english')\n",
    "remove_from_stop = ['no','nor','not',\"didn't\",\"couldn't\",\"doesn't\", \"don't\",'does','did','doing',\"hadn't\",\"hasn't\",\"haven't\",\\\n",
    "                   \"isn't\",\"wasn't\",\"ain\",\"ain't\",\"aren't\",\"weren't\",\"wouldn't\",\"out\",\"up\",\"down\",\"shouldn't\",\"mightn't\",\"won't\",\\\n",
    "                   'off',\"shan't\",\"needn't\",\"again\",'few','under','won']\n",
    "add_to_stop = [\"i've\",\"we're\",'hey','ty','ur',\"it's\",'hi','@verizon','@verizonsupport','lol','afk','rofl']\n",
    "stop_words.extend(add_to_stop)\n",
    "stop_words = list(set(stop_words)-set(remove_from_stop))"
   ]
  },
  {
   "cell_type": "code",
   "execution_count": 11,
   "metadata": {},
   "outputs": [],
   "source": [
    "## making entire tweet to lowercase\n",
    "verizon_data_filtered['tweet_nosw'] = verizon_data_filtered['tweet'].apply(lambda x:x.lower())\n",
    "## Removing mentions and hashtags\n",
    "verizon_data_filtered['tweet_nosw'] = verizon_data_filtered['tweet_nosw'].apply(lambda x:re.sub(r\"@[a-z0-8]*|#[a-z0-8]*\",'',x))\n",
    "## removing URL's\n",
    "verizon_data_filtered['tweet_nosw'] = verizon_data_filtered['tweet_nosw'].apply(lambda x:re.sub(r\"https://[a-z0-9]*.[a-z]*/[a-z0-9]*\",\"\",x))\n",
    "## Converting emoji to text and removing that text (If using sentiment analysis we need to retain these text but not needed now)\n",
    "verizon_data_filtered['tweet_nosw'] = verizon_data_filtered['tweet_nosw'].apply(lambda x: emoji.demojize(x))\n",
    "verizon_data_filtered['tweet_nosw'] = verizon_data_filtered['tweet_nosw'].apply(lambda x:re.sub(r\":[a-z_]*:\",\"\",x))\n",
    "## Removing Stopwords\n",
    "verizon_data_filtered['tweet_nosw'] = verizon_data_filtered['tweet_nosw'].apply(lambda x:\" \".join([k for k in x.split(\" \") if k not in stop_words]).strip())\n",
    "## Removing punctuations\n",
    "verizon_data_filtered['tweet_nosw'] = verizon_data_filtered['tweet_nosw'].apply(lambda x:\"\".join([char for char in x if char in 'abcdefghijklmnopqrstuvwxyz0123456789 ']))\n",
    "#verizon_data_filtered['tweet_nosw'] = verizon_data_filtered['tweet_nosw'].apply(lambda x:\"\".join([char for char in x if char not in \"\"\"!?.,:;'()\"{}[]\\/^&*=-+_$%\"\"\"]))\n",
    "## Replacing Multiple space characters with single space\n",
    "verizon_data_filtered['tweet_nosw'] = verizon_data_filtered['tweet_nosw'].apply(lambda x:re.sub(r\"  +\",\"\",x))"
   ]
  },
  {
   "cell_type": "code",
   "execution_count": 12,
   "metadata": {},
   "outputs": [],
   "source": [
    "##Lemmatization\n",
    "lemmatizer = WordNetLemmatizer()\n",
    "verizon_data_filtered['tweet_nosw_lemma'] = verizon_data_filtered['tweet_nosw'].apply(lambda x:\" \".join([lemmatizer.lemmatize(word) for word in x.split(\" \")]))"
   ]
  },
  {
   "cell_type": "code",
   "execution_count": null,
   "metadata": {},
   "outputs": [],
   "source": [
    "## Profiling the Clusters"
   ]
  },
  {
   "cell_type": "markdown",
   "metadata": {},
   "source": [
    "## Creating Fetures using Word2Vec"
   ]
  },
  {
   "cell_type": "code",
   "execution_count": 13,
   "metadata": {},
   "outputs": [],
   "source": [
    "verizon_data_filtered_master = verizon_data_filtered.copy()"
   ]
  },
  {
   "cell_type": "code",
   "execution_count": 15,
   "metadata": {},
   "outputs": [],
   "source": [
    "## Storing processed data\n",
    "#verizon_data_filtered_master.to_csv(DATAPATH+\"verizon_data_processed.csv\", index=False, line_terminator='\\n')\n",
    "## Reading processed data later in time to avoid all processing steps above\n",
    "#verizon_data_filtered_master = pd.read_csv(DATAPATH+\"verizon_data_processed.csv\")\n",
    "#verizon_data_filtered = verizon_data_filtered_master.copy()"
   ]
  },
  {
   "cell_type": "code",
   "execution_count": 14,
   "metadata": {},
   "outputs": [],
   "source": [
    "verizon_data_filtered['tweet_tokens'] = verizon_data_filtered[\"tweet_nosw_lemma\"].map(lambda x: word_tokenize(x))"
   ]
  },
  {
   "cell_type": "code",
   "execution_count": 15,
   "metadata": {},
   "outputs": [],
   "source": [
    "verizon_data_filtered['tweet_tokens'] = verizon_data_filtered['tweet_tokens'].apply(lambda x:[k for k in x if len(k)>1])"
   ]
  },
  {
   "cell_type": "code",
   "execution_count": 16,
   "metadata": {},
   "outputs": [],
   "source": [
    "## Uncomment only when need to retreive the prev data\n",
    "#verizon_data_filtered = verizon_data_filtered_master.copy()"
   ]
  },
  {
   "cell_type": "code",
   "execution_count": 17,
   "metadata": {},
   "outputs": [],
   "source": [
    "_,idx = np.unique(verizon_data_filtered['tweet_tokens'], return_index=True)"
   ]
  },
  {
   "cell_type": "code",
   "execution_count": 18,
   "metadata": {},
   "outputs": [],
   "source": [
    "verizon_data_filtered = verizon_data_filtered.iloc[idx,:]\n",
    "verizon_data_filtered = verizon_data_filtered.loc[verizon_data_filtered.tweet_tokens.map(lambda x: len(x) > 0), [\"tweet\",\"tweet_nosw\", \"tweet_nosw_lemma\",\"tweet_tokens\"]]"
   ]
  },
  {
   "cell_type": "code",
   "execution_count": 19,
   "metadata": {},
   "outputs": [],
   "source": [
    "## Processing of data complete for word2vec"
   ]
  },
  {
   "cell_type": "code",
   "execution_count": 20,
   "metadata": {},
   "outputs": [],
   "source": [
    "tokenized_docs = verizon_data_filtered['tweet_tokens'].tolist()"
   ]
  },
  {
   "cell_type": "code",
   "execution_count": 21,
   "metadata": {},
   "outputs": [],
   "source": [
    "model = Word2Vec(sentences=tokenized_docs, vector_size=100, workers=4, seed=SEED)"
   ]
  },
  {
   "cell_type": "code",
   "execution_count": 22,
   "metadata": {},
   "outputs": [],
   "source": [
    "def vectorize(list_of_docs, model):\n",
    "    \"\"\"Generate vectors for list of documents using a Word Embedding\n",
    "\n",
    "    Args:\n",
    "        list_of_docs: List of documents\n",
    "        model: Gensim's Word Embedding\n",
    "\n",
    "    Returns:\n",
    "        List of document vectors\n",
    "    \"\"\"\n",
    "    features = []\n",
    "\n",
    "    for tokens in list_of_docs:\n",
    "        zero_vector = np.zeros(model.vector_size)\n",
    "        vectors = []\n",
    "        for token in tokens:\n",
    "            if token in model.wv:\n",
    "                try:\n",
    "                    vectors.append(model.wv[token])\n",
    "                except KeyError:\n",
    "                    continue\n",
    "        if vectors:\n",
    "            vectors = np.asarray(vectors)\n",
    "            avg_vec = vectors.mean(axis=0)\n",
    "            features.append(avg_vec)\n",
    "        else:\n",
    "            features.append(zero_vector)\n",
    "    return features\n",
    "\n",
    "vectorized_docs = vectorize(tokenized_docs, model=model)"
   ]
  },
  {
   "cell_type": "code",
   "execution_count": 39,
   "metadata": {},
   "outputs": [],
   "source": [
    "#vectorized_docs"
   ]
  },
  {
   "cell_type": "code",
   "execution_count": 23,
   "metadata": {},
   "outputs": [
    {
     "data": {
      "text/plain": [
       "[('wifi', 0.7023628950119019),\n",
       " ('dsl', 0.5615302920341492),\n",
       " ('cableinternet', 0.4784921109676361),\n",
       " ('broadband', 0.4254390597343445),\n",
       " ('sudden', 0.4054202139377594),\n",
       " ('internettv', 0.3853008449077606),\n",
       " ('wired', 0.3832227885723114),\n",
       " ('heyinternet', 0.3822445273399353),\n",
       " ('lte', 0.38018152117729187),\n",
       " ('service', 0.3775588274002075)]"
      ]
     },
     "execution_count": 23,
     "metadata": {},
     "output_type": "execute_result"
    }
   ],
   "source": [
    "model.wv.most_similar('internet')"
   ]
  },
  {
   "cell_type": "code",
   "execution_count": 24,
   "metadata": {},
   "outputs": [
    {
     "data": {
      "text/plain": [
       "[('internet', 0.7023628950119019),\n",
       " ('lte', 0.5956243872642517),\n",
       " ('laptop', 0.5903330445289612),\n",
       " ('pc', 0.5796164274215698),\n",
       " ('24ghz', 0.5725166201591492),\n",
       " ('vpn', 0.5683382749557495),\n",
       " ('ps4', 0.5524393916130066),\n",
       " ('ethernet', 0.5521074533462524),\n",
       " ('wirelessly', 0.5499361157417297),\n",
       " ('signal', 0.5402802228927612)]"
      ]
     },
     "execution_count": 24,
     "metadata": {},
     "output_type": "execute_result"
    }
   ],
   "source": [
    "model.wv.most_similar('wifi')"
   ]
  },
  {
   "cell_type": "code",
   "execution_count": 25,
   "metadata": {},
   "outputs": [
    {
     "data": {
      "text/plain": [
       "[('4g', 0.9158666133880615),\n",
       " ('3g', 0.886193037033081),\n",
       " ('1x', 0.8669449090957642),\n",
       " ('bar', 0.7644756436347961),\n",
       " ('5g', 0.6857317090034485),\n",
       " ('airport', 0.6703099012374878),\n",
       " ('mifi', 0.6475012302398682),\n",
       " ('2g', 0.6390531063079834),\n",
       " ('barely', 0.6158959865570068),\n",
       " ('4glte', 0.6115826368331909)]"
      ]
     },
     "execution_count": 25,
     "metadata": {},
     "output_type": "execute_result"
    }
   ],
   "source": [
    "model.wv.most_similar('lte')"
   ]
  },
  {
   "cell_type": "code",
   "execution_count": 26,
   "metadata": {},
   "outputs": [
    {
     "data": {
      "text/plain": [
       "[('costumer', 0.7689282298088074),\n",
       " ('cust', 0.7431411743164062),\n",
       " ('financial', 0.5840045213699341),\n",
       " ('client', 0.5455020666122437),\n",
       " ('staff', 0.51716548204422),\n",
       " ('truly', 0.4951280355453491),\n",
       " ('lack', 0.4938300549983978),\n",
       " ('loyalty', 0.4875938296318054),\n",
       " ('employee', 0.4854387640953064),\n",
       " ('treated', 0.48375070095062256)]"
      ]
     },
     "execution_count": 26,
     "metadata": {},
     "output_type": "execute_result"
    }
   ],
   "source": [
    "model.wv.most_similar('customer')"
   ]
  },
  {
   "cell_type": "code",
   "execution_count": 27,
   "metadata": {},
   "outputs": [],
   "source": [
    "def mbkmeans_clusters(X, k, mb, print_silhouette_values, filename):\n",
    "    \"\"\"Generate clusters and print Silhouette metrics using MBKmeans\n",
    "\n",
    "    Args:\n",
    "        X: Matrix of features.\n",
    "        k: Number of clusters.\n",
    "        mb: Size of mini-batches.\n",
    "        print_silhouette_values: Print silhouette values per cluster.\n",
    "\n",
    "    Returns:\n",
    "        Trained clustering model and labels based on X.\n",
    "    \"\"\"\n",
    "    km = MiniBatchKMeans(n_clusters=k, batch_size=mb, random_state=SEED).fit(X)\n",
    "    pickle.dump(km, open(filename, 'wb'))\n",
    "    #print(f\"For n_clusters = {k}\")\n",
    "    #print(f\"Silhouette coefficient: {silhouette_score(X, km.labels_):0.2f}\")\n",
    "    #print(f\"Inertia:{km.inertia_}\")\n",
    "\n",
    "    if print_silhouette_values:\n",
    "        sample_silhouette_values = silhouette_samples(X, km.labels_)\n",
    "        print(f\"Silhouette values:\")\n",
    "        silhouette_values = []\n",
    "        for i in range(k):\n",
    "            cluster_silhouette_values = sample_silhouette_values[km.labels_ == i]\n",
    "            silhouette_values.append(\n",
    "                (\n",
    "                    i,\n",
    "                    cluster_silhouette_values.shape[0],\n",
    "                    cluster_silhouette_values.mean(),\n",
    "                    cluster_silhouette_values.min(),\n",
    "                    cluster_silhouette_values.max(),\n",
    "                )\n",
    "            )\n",
    "        silhouette_values = sorted(\n",
    "            silhouette_values, key=lambda tup: tup[2], reverse=True\n",
    "        )\n",
    "        for s in silhouette_values:\n",
    "            print(\n",
    "                f\"    Cluster {s[0]}: Size:{s[1]} | Avg:{s[2]:.2f} | Min:{s[3]:.2f} | Max: {s[4]:.2f}\"\n",
    "            )\n",
    "    return km, km.labels_"
   ]
  },
  {
   "cell_type": "code",
   "execution_count": 28,
   "metadata": {},
   "outputs": [],
   "source": [
    "clustering, cluster_labels = mbkmeans_clusters(\n",
    "\tX=vectorized_docs,\n",
    "    k=400,\n",
    "    mb=5000,\n",
    "    print_silhouette_values=False,filename=\"model115.pkl\")\n"
   ]
  },
  {
   "cell_type": "code",
   "execution_count": 29,
   "metadata": {},
   "outputs": [],
   "source": [
    "## if reading previous saved model\n",
    "#km = pickle.load(open(\"model10.pkl\", \"rb\"))"
   ]
  },
  {
   "cell_type": "code",
   "execution_count": 30,
   "metadata": {},
   "outputs": [],
   "source": [
    "df_clusters = pd.DataFrame({\n",
    "    \"original_tweet\": verizon_data_filtered['tweet'].tolist(),\n",
    "    \"processed_tweet\": verizon_data_filtered['tweet_nosw_lemma'].tolist(),\n",
    "    \"tokens\": [\" \".join(text) for text in tokenized_docs],\n",
    "    \"cluster_number\": cluster_labels\n",
    "})"
   ]
  },
  {
   "cell_type": "code",
   "execution_count": 32,
   "metadata": {},
   "outputs": [],
   "source": [
    "df_clusters_sample = df_clusters.groupby('cluster_number').sample(n=50,replace=True)\n",
    "df_clusters_sample.to_excel(\"Cluster_profile_sample_1509.xlsx\")"
   ]
  },
  {
   "cell_type": "code",
   "execution_count": 32,
   "metadata": {},
   "outputs": [],
   "source": [
    "cluster_labels = pd.read_excel(\"Cluster_profile_sample_v3.xlsx\", sheet_name=\"Sheet2\")"
   ]
  },
  {
   "cell_type": "code",
   "execution_count": 33,
   "metadata": {},
   "outputs": [
    {
     "data": {
      "text/html": [
       "<div>\n",
       "<style scoped>\n",
       "    .dataframe tbody tr th:only-of-type {\n",
       "        vertical-align: middle;\n",
       "    }\n",
       "\n",
       "    .dataframe tbody tr th {\n",
       "        vertical-align: top;\n",
       "    }\n",
       "\n",
       "    .dataframe thead th {\n",
       "        text-align: right;\n",
       "    }\n",
       "</style>\n",
       "<table border=\"1\" class=\"dataframe\">\n",
       "  <thead>\n",
       "    <tr style=\"text-align: right;\">\n",
       "      <th></th>\n",
       "      <th>original_tweet</th>\n",
       "      <th>processed_tweet</th>\n",
       "      <th>tokens</th>\n",
       "      <th>cluster_number</th>\n",
       "    </tr>\n",
       "  </thead>\n",
       "  <tbody>\n",
       "    <tr>\n",
       "      <th>0</th>\n",
       "      <td>@thephilkerns @BlakeGuidry_ @Patriots It's bee...</td>\n",
       "      <td>_\"activating\" like 15 minutes.:/</td>\n",
       "      <td>'' activating '' like 15 minutes</td>\n",
       "      <td>286</td>\n",
       "    </tr>\n",
       "    <tr>\n",
       "      <th>1</th>\n",
       "      <td>@verizon @VerizonSupport @VerizonSupport:\"As o...</td>\n",
       "      <td>:\"as right account agency. charge resolving th...</td>\n",
       "      <td>'' as right account agency charge resolving th...</td>\n",
       "      <td>98</td>\n",
       "    </tr>\n",
       "    <tr>\n",
       "      <th>2</th>\n",
       "      <td>@VerizonSupport I\"m back on line. Thanks.</td>\n",
       "      <td>i\"m back line. thanks.</td>\n",
       "      <td>'' back line thanks</td>\n",
       "      <td>222</td>\n",
       "    </tr>\n",
       "    <tr>\n",
       "      <th>3</th>\n",
       "      <td>@VerizonSupport I\"m clicking on \"contact us\" o...</td>\n",
       "      <td>i\"m clicking \"contact us\" website get verizon ...</td>\n",
       "      <td>'' clicking `` contact us '' website get veriz...</td>\n",
       "      <td>286</td>\n",
       "    </tr>\n",
       "    <tr>\n",
       "      <th>4</th>\n",
       "      <td>@VerizonSupport I\"M HELPING YOU IDENTIFY A DAN...</td>\n",
       "      <td>i\"m helping identify dangerous situation spend...</td>\n",
       "      <td>'' helping identify dangerous situation spend ...</td>\n",
       "      <td>381</td>\n",
       "    </tr>\n",
       "    <tr>\n",
       "      <th>...</th>\n",
       "      <td>...</td>\n",
       "      <td>...</td>\n",
       "      <td>...</td>\n",
       "      <td>...</td>\n",
       "    </tr>\n",
       "    <tr>\n",
       "      <th>302264</th>\n",
       "      <td>@generalstar22 @PokemonGoApp #PokemonGO #Ninte...</td>\n",
       "      <td>しゃせいするぐれんfix this?</td>\n",
       "      <td>しゃせいするぐれんfix this</td>\n",
       "      <td>296</td>\n",
       "    </tr>\n",
       "    <tr>\n",
       "      <th>302265</th>\n",
       "      <td>#@VerizonSupport ￼I have never been so enraged...</td>\n",
       "      <td>￼i never enraged company made scene public was...</td>\n",
       "      <td>￼i never enraged company made scene public was...</td>\n",
       "      <td>90</td>\n",
       "    </tr>\n",
       "    <tr>\n",
       "      <th>302266</th>\n",
       "      <td>@verizon @VerizonSupport 𝑰𝒔 𝑻𝒉𝒆𝒓𝒆 𝑰𝒔𝒔𝒖𝒆𝒔 𝑾𝒊𝒕𝒉 ...</td>\n",
       "      <td>𝑰𝒔 𝑻𝒉𝒆𝒓𝒆 𝑰𝒔𝒔𝒖𝒆𝒔 𝑾𝒊𝒕𝒉 𝑻𝒉𝒆 𝑵𝒆𝒕𝒘𝒐𝒓𝒌? 𝑰 𝑯𝒂𝒗𝒆 𝑼𝒏𝒍𝒊𝒎...</td>\n",
       "      <td>𝑰𝒔 𝑻𝒉𝒆𝒓𝒆 𝑰𝒔𝒔𝒖𝒆𝒔 𝑾𝒊𝒕𝒉 𝑻𝒉𝒆 𝑵𝒆𝒕𝒘𝒐𝒓𝒌 𝑯𝒂𝒗𝒆 𝑼𝒏𝒍𝒊𝒎𝒊𝒕𝒆...</td>\n",
       "      <td>286</td>\n",
       "    </tr>\n",
       "    <tr>\n",
       "      <th>302267</th>\n",
       "      <td>@VerizonSupport 𝕀 𝕛𝕦𝕤𝕥 𝕟𝕖𝕖𝕕 𝕥𝕠 𝕤𝕔𝕙𝕖𝕕𝕦𝕝𝕖 𝕒𝕟 𝕒𝕡𝕡...</td>\n",
       "      <td>𝕀 𝕛𝕦𝕤𝕥 𝕟𝕖𝕖𝕕 𝕥𝕠 𝕤𝕔𝕙𝕖𝕕𝕦𝕝𝕖 𝕒𝕟 𝕒𝕡𝕡𝕠𝕚𝕟𝕥𝕞𝕖𝕟𝕥 𝕗𝕠𝕣 𝕤𝕠𝕞...</td>\n",
       "      <td>𝕛𝕦𝕤𝕥 𝕟𝕖𝕖𝕕 𝕥𝕠 𝕤𝕔𝕙𝕖𝕕𝕦𝕝𝕖 𝕒𝕟 𝕒𝕡𝕡𝕠𝕚𝕟𝕥𝕞𝕖𝕟𝕥 𝕗𝕠𝕣 𝕤𝕠𝕞𝕖𝕠...</td>\n",
       "      <td>18</td>\n",
       "    </tr>\n",
       "    <tr>\n",
       "      <th>302268</th>\n",
       "      <td>@VerizonSupport 𝕀 𝕨𝕠𝕦𝕝𝕕 𝕝𝕚𝕜𝕖 𝕥𝕠 𝕥𝕒𝕝𝕜 𝕥𝕠 𝕒 𝕣𝕖𝕡𝕣...</td>\n",
       "      <td>𝕀 𝕨𝕠𝕦𝕝𝕕 𝕝𝕚𝕜𝕖 𝕥𝕠 𝕥𝕒𝕝𝕜 𝕥𝕠 𝕒 𝕣𝕖𝕡𝕣𝕖𝕤𝕖𝕟𝕥𝕒𝕥𝕚𝕧𝕖 𝕠𝕗 𝕍𝕖...</td>\n",
       "      <td>𝕨𝕠𝕦𝕝𝕕 𝕝𝕚𝕜𝕖 𝕥𝕠 𝕥𝕒𝕝𝕜 𝕥𝕠 𝕣𝕖𝕡𝕣𝕖𝕤𝕖𝕟𝕥𝕒𝕥𝕚𝕧𝕖 𝕠𝕗 𝕍𝕖𝕣𝕚𝕫𝕠...</td>\n",
       "      <td>18</td>\n",
       "    </tr>\n",
       "  </tbody>\n",
       "</table>\n",
       "<p>302269 rows × 4 columns</p>\n",
       "</div>"
      ],
      "text/plain": [
       "                                           original_tweet  \\\n",
       "0       @thephilkerns @BlakeGuidry_ @Patriots It's bee...   \n",
       "1       @verizon @VerizonSupport @VerizonSupport:\"As o...   \n",
       "2               @VerizonSupport I\"m back on line. Thanks.   \n",
       "3       @VerizonSupport I\"m clicking on \"contact us\" o...   \n",
       "4       @VerizonSupport I\"M HELPING YOU IDENTIFY A DAN...   \n",
       "...                                                   ...   \n",
       "302264  @generalstar22 @PokemonGoApp #PokemonGO #Ninte...   \n",
       "302265  #@VerizonSupport ￼I have never been so enraged...   \n",
       "302266  @verizon @VerizonSupport 𝑰𝒔 𝑻𝒉𝒆𝒓𝒆 𝑰𝒔𝒔𝒖𝒆𝒔 𝑾𝒊𝒕𝒉 ...   \n",
       "302267  @VerizonSupport 𝕀 𝕛𝕦𝕤𝕥 𝕟𝕖𝕖𝕕 𝕥𝕠 𝕤𝕔𝕙𝕖𝕕𝕦𝕝𝕖 𝕒𝕟 𝕒𝕡𝕡...   \n",
       "302268  @VerizonSupport 𝕀 𝕨𝕠𝕦𝕝𝕕 𝕝𝕚𝕜𝕖 𝕥𝕠 𝕥𝕒𝕝𝕜 𝕥𝕠 𝕒 𝕣𝕖𝕡𝕣...   \n",
       "\n",
       "                                          processed_tweet  \\\n",
       "0                        _\"activating\" like 15 minutes.:/   \n",
       "1       :\"as right account agency. charge resolving th...   \n",
       "2                                  i\"m back line. thanks.   \n",
       "3       i\"m clicking \"contact us\" website get verizon ...   \n",
       "4       i\"m helping identify dangerous situation spend...   \n",
       "...                                                   ...   \n",
       "302264                                 しゃせいするぐれんfix this?   \n",
       "302265  ￼i never enraged company made scene public was...   \n",
       "302266  𝑰𝒔 𝑻𝒉𝒆𝒓𝒆 𝑰𝒔𝒔𝒖𝒆𝒔 𝑾𝒊𝒕𝒉 𝑻𝒉𝒆 𝑵𝒆𝒕𝒘𝒐𝒓𝒌? 𝑰 𝑯𝒂𝒗𝒆 𝑼𝒏𝒍𝒊𝒎...   \n",
       "302267  𝕀 𝕛𝕦𝕤𝕥 𝕟𝕖𝕖𝕕 𝕥𝕠 𝕤𝕔𝕙𝕖𝕕𝕦𝕝𝕖 𝕒𝕟 𝕒𝕡𝕡𝕠𝕚𝕟𝕥𝕞𝕖𝕟𝕥 𝕗𝕠𝕣 𝕤𝕠𝕞...   \n",
       "302268  𝕀 𝕨𝕠𝕦𝕝𝕕 𝕝𝕚𝕜𝕖 𝕥𝕠 𝕥𝕒𝕝𝕜 𝕥𝕠 𝕒 𝕣𝕖𝕡𝕣𝕖𝕤𝕖𝕟𝕥𝕒𝕥𝕚𝕧𝕖 𝕠𝕗 𝕍𝕖...   \n",
       "\n",
       "                                                   tokens  cluster_number  \n",
       "0                        '' activating '' like 15 minutes             286  \n",
       "1       '' as right account agency charge resolving th...              98  \n",
       "2                                     '' back line thanks             222  \n",
       "3       '' clicking `` contact us '' website get veriz...             286  \n",
       "4       '' helping identify dangerous situation spend ...             381  \n",
       "...                                                   ...             ...  \n",
       "302264                                  しゃせいするぐれんfix this             296  \n",
       "302265  ￼i never enraged company made scene public was...              90  \n",
       "302266  𝑰𝒔 𝑻𝒉𝒆𝒓𝒆 𝑰𝒔𝒔𝒖𝒆𝒔 𝑾𝒊𝒕𝒉 𝑻𝒉𝒆 𝑵𝒆𝒕𝒘𝒐𝒓𝒌 𝑯𝒂𝒗𝒆 𝑼𝒏𝒍𝒊𝒎𝒊𝒕𝒆...             286  \n",
       "302267  𝕛𝕦𝕤𝕥 𝕟𝕖𝕖𝕕 𝕥𝕠 𝕤𝕔𝕙𝕖𝕕𝕦𝕝𝕖 𝕒𝕟 𝕒𝕡𝕡𝕠𝕚𝕟𝕥𝕞𝕖𝕟𝕥 𝕗𝕠𝕣 𝕤𝕠𝕞𝕖𝕠...              18  \n",
       "302268  𝕨𝕠𝕦𝕝𝕕 𝕝𝕚𝕜𝕖 𝕥𝕠 𝕥𝕒𝕝𝕜 𝕥𝕠 𝕣𝕖𝕡𝕣𝕖𝕤𝕖𝕟𝕥𝕒𝕥𝕚𝕧𝕖 𝕠𝕗 𝕍𝕖𝕣𝕚𝕫𝕠...              18  \n",
       "\n",
       "[302269 rows x 4 columns]"
      ]
     },
     "execution_count": 33,
     "metadata": {},
     "output_type": "execute_result"
    }
   ],
   "source": [
    "df_clusters"
   ]
  },
  {
   "cell_type": "code",
   "execution_count": 34,
   "metadata": {},
   "outputs": [],
   "source": [
    "df_clusters_merged = df_clusters.merge(cluster_labels, left_on='cluster_number', right_on='Cluster Number', how='inner')"
   ]
  },
  {
   "cell_type": "code",
   "execution_count": 35,
   "metadata": {},
   "outputs": [],
   "source": [
    "df_clusters_merged.drop(['tokens'], axis=1, inplace=True)"
   ]
  },
  {
   "cell_type": "code",
   "execution_count": 40,
   "metadata": {},
   "outputs": [],
   "source": [
    "df_clusters_merged.to_csv(\"Verizon_Tweets_classification.csv\", index=False, line_terminator='\\n')"
   ]
  },
  {
   "cell_type": "code",
   "execution_count": 36,
   "metadata": {},
   "outputs": [
    {
     "data": {
      "text/html": [
       "<div>\n",
       "<style scoped>\n",
       "    .dataframe tbody tr th:only-of-type {\n",
       "        vertical-align: middle;\n",
       "    }\n",
       "\n",
       "    .dataframe tbody tr th {\n",
       "        vertical-align: top;\n",
       "    }\n",
       "\n",
       "    .dataframe thead th {\n",
       "        text-align: right;\n",
       "    }\n",
       "</style>\n",
       "<table border=\"1\" class=\"dataframe\">\n",
       "  <thead>\n",
       "    <tr style=\"text-align: right;\">\n",
       "      <th></th>\n",
       "      <th>original_tweet</th>\n",
       "      <th>processed_tweet</th>\n",
       "      <th>cluster_number</th>\n",
       "      <th>Cluster Number</th>\n",
       "      <th>Cluster Name</th>\n",
       "    </tr>\n",
       "  </thead>\n",
       "  <tbody>\n",
       "    <tr>\n",
       "      <th>29676</th>\n",
       "      <td>@VerizonSupport Hi.  I'm unable to make any ph...</td>\n",
       "      <td>hi.i'm unable make phone call need help fix it...</td>\n",
       "      <td>37</td>\n",
       "      <td>37</td>\n",
       "      <td>Requesting service</td>\n",
       "    </tr>\n",
       "    <tr>\n",
       "      <th>5657</th>\n",
       "      <td>@VerizonSupport Appreciate the update! I'm out...</td>\n",
       "      <td>appreciate update! i'm out finger toe cross lo...</td>\n",
       "      <td>19</td>\n",
       "      <td>19</td>\n",
       "      <td>Device related issues</td>\n",
       "    </tr>\n",
       "    <tr>\n",
       "      <th>32522</th>\n",
       "      <td>@ViudaAlegre13 @verizon @VerizonSupport @GetSp...</td>\n",
       "      <td>pleasure.travel move constantly few year away ...</td>\n",
       "      <td>2</td>\n",
       "      <td>2</td>\n",
       "      <td>Set top box/DVR/ONT issue</td>\n",
       "    </tr>\n",
       "    <tr>\n",
       "      <th>8581</th>\n",
       "      <td>This means I will be without any charger at al...</td>\n",
       "      <td>mean without charger &amp;amp; verizon won't give ...</td>\n",
       "      <td>27</td>\n",
       "      <td>27</td>\n",
       "      <td>Bad experience with customer service</td>\n",
       "    </tr>\n",
       "    <tr>\n",
       "      <th>54005</th>\n",
       "      <td>@VerizonSupport We don't only Spectrum in this...</td>\n",
       "      <td>don't spectrum area!</td>\n",
       "      <td>23</td>\n",
       "      <td>23</td>\n",
       "      <td>Broadband speed issues</td>\n",
       "    </tr>\n",
       "    <tr>\n",
       "      <th>...</th>\n",
       "      <td>...</td>\n",
       "      <td>...</td>\n",
       "      <td>...</td>\n",
       "      <td>...</td>\n",
       "      <td>...</td>\n",
       "    </tr>\n",
       "    <tr>\n",
       "      <th>9353</th>\n",
       "      <td>@DJayHoffman @VerizonSupport From @dtmcculloch...</td>\n",
       "      <td>&amp;amp;thx2dmverizonoutage (one two area) due ba...</td>\n",
       "      <td>47</td>\n",
       "      <td>47</td>\n",
       "      <td>Call related issues</td>\n",
       "    </tr>\n",
       "    <tr>\n",
       "      <th>12088</th>\n",
       "      <td>@VerizonSupport I accepted the terms because t...</td>\n",
       "      <td>accepted term rep chat said would fix signed u...</td>\n",
       "      <td>48</td>\n",
       "      <td>48</td>\n",
       "      <td>Promotion/offers</td>\n",
       "    </tr>\n",
       "    <tr>\n",
       "      <th>8115</th>\n",
       "      <td>@VerizonSupport I can't use it with my cell ph...</td>\n",
       "      <td>can't use cell phone. verizon need spend milli...</td>\n",
       "      <td>27</td>\n",
       "      <td>27</td>\n",
       "      <td>Bad experience with customer service</td>\n",
       "    </tr>\n",
       "    <tr>\n",
       "      <th>32996</th>\n",
       "      <td>@VerizonSupport Done and also reset the router...</td>\n",
       "      <td>done also reset router factory defaults. no ch...</td>\n",
       "      <td>20</td>\n",
       "      <td>20</td>\n",
       "      <td>Application issues</td>\n",
       "    </tr>\n",
       "    <tr>\n",
       "      <th>2247</th>\n",
       "      <td>@VerizonSupport No, I am not. Again, slowness ...</td>\n",
       "      <td>no, not. again, slowness experienced multiple ...</td>\n",
       "      <td>40</td>\n",
       "      <td>40</td>\n",
       "      <td>Service Outage</td>\n",
       "    </tr>\n",
       "  </tbody>\n",
       "</table>\n",
       "<p>500 rows × 5 columns</p>\n",
       "</div>"
      ],
      "text/plain": [
       "                                          original_tweet  \\\n",
       "29676  @VerizonSupport Hi.  I'm unable to make any ph...   \n",
       "5657   @VerizonSupport Appreciate the update! I'm out...   \n",
       "32522  @ViudaAlegre13 @verizon @VerizonSupport @GetSp...   \n",
       "8581   This means I will be without any charger at al...   \n",
       "54005  @VerizonSupport We don't only Spectrum in this...   \n",
       "...                                                  ...   \n",
       "9353   @DJayHoffman @VerizonSupport From @dtmcculloch...   \n",
       "12088  @VerizonSupport I accepted the terms because t...   \n",
       "8115   @VerizonSupport I can't use it with my cell ph...   \n",
       "32996  @VerizonSupport Done and also reset the router...   \n",
       "2247   @VerizonSupport No, I am not. Again, slowness ...   \n",
       "\n",
       "                                         processed_tweet  cluster_number  \\\n",
       "29676  hi.i'm unable make phone call need help fix it...              37   \n",
       "5657   appreciate update! i'm out finger toe cross lo...              19   \n",
       "32522  pleasure.travel move constantly few year away ...               2   \n",
       "8581   mean without charger &amp; verizon won't give ...              27   \n",
       "54005                               don't spectrum area!              23   \n",
       "...                                                  ...             ...   \n",
       "9353   &amp;thx2dmverizonoutage (one two area) due ba...              47   \n",
       "12088  accepted term rep chat said would fix signed u...              48   \n",
       "8115   can't use cell phone. verizon need spend milli...              27   \n",
       "32996  done also reset router factory defaults. no ch...              20   \n",
       "2247   no, not. again, slowness experienced multiple ...              40   \n",
       "\n",
       "       Cluster Number                          Cluster Name  \n",
       "29676              37                   Requesting service   \n",
       "5657               19                 Device related issues  \n",
       "32522               2             Set top box/DVR/ONT issue  \n",
       "8581               27  Bad experience with customer service  \n",
       "54005              23                Broadband speed issues  \n",
       "...               ...                                   ...  \n",
       "9353               47                   Call related issues  \n",
       "12088              48                      Promotion/offers  \n",
       "8115               27  Bad experience with customer service  \n",
       "32996              20                    Application issues  \n",
       "2247               40                        Service Outage  \n",
       "\n",
       "[500 rows x 5 columns]"
      ]
     },
     "execution_count": 36,
     "metadata": {},
     "output_type": "execute_result"
    }
   ],
   "source": [
    "df_clusters_merged.sample(n=500)#.to_csv(\"Verizon_Tweets_classification_sample.csv\", index=False, line_terminator='\\n')"
   ]
  },
  {
   "cell_type": "code",
   "execution_count": null,
   "metadata": {},
   "outputs": [],
   "source": [
    "## Model 1 100 clusters\n",
    "## Model 2 60\n",
    "## Model 3 10\n",
    "## Model 4 200\n",
    "## MODEL 5 500\n",
    "## Model 6 350 Might be wrong cause I ran once with 1000. \n",
    "## Model 7 1000 (negative coeff)\n",
    "## Model 8 400\n",
    "## Model 9 400 (With more cleaning)"
   ]
  },
  {
   "cell_type": "code",
   "execution_count": 86,
   "metadata": {},
   "outputs": [
    {
     "data": {
      "image/png": "[encoded data removed]",
      "text/plain": [
       "<Figure size 432x288 with 1 Axes>"
      ]
     },
     "metadata": {
      "needs_background": "light"
     },
     "output_type": "display_data"
    }
   ],
   "source": [
    "import matplotlib.pyplot as plt\n",
    "x = np.array([10,60,100,200,350,400,500,1000])\n",
    "y = np.array([5324546,4209942,3929900,3593428,3349012,3291826,3213570,2968245])\n",
    "plt.plot(x,y)\n",
    "plt.show()\n",
    "## By this plot ideal number of clusters are 400."
   ]
  },
  {
   "cell_type": "code",
   "execution_count": null,
   "metadata": {},
   "outputs": [],
   "source": []
  }
 ],
 "metadata": {
  "kernelspec": {
   "display_name": "Python 3",
   "language": "python",
   "name": "python3"
  },
  "language_info": {
   "codemirror_mode": {
    "name": "ipython",
    "version": 3
   },
   "file_extension": ".py",
   "mimetype": "text/x-python",
   "name": "python",
   "nbconvert_exporter": "python",
   "pygments_lexer": "ipython3",
   "version": "3.8.5"
  }
 },
 "nbformat": 4,
 "nbformat_minor": 4
}
